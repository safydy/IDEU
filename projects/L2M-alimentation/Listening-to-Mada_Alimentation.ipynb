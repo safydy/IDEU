{
 "cells": [
  {
   "cell_type": "markdown",
   "metadata": {},
   "source": [
    "# Project \"Revenu des adults\" (Adult income)"
   ]
  },
  {
   "cell_type": "markdown",
   "metadata": {},
   "source": [
    "## <a name=\"setup\"></a> Configuration générale"
   ]
  },
  {
   "cell_type": "code",
   "execution_count": 41,
   "metadata": {},
   "outputs": [
    {
     "name": "stdout",
     "output_type": "stream",
     "text": [
      "Projet : /Volumes/Data/data_analysis/EILV\n"
     ]
    }
   ],
   "source": [
    "import os\n",
    "\n",
    "print ('Projet : %s' %os.getcwd())\n",
    "\n",
    "workingDir = '/Volumes/Data/data_analysis/EILV/'\n",
    "os.chdir(workingDir)\n",
    "\n",
    "projectDir = '%s/projects/L2M-alimentation/' %os.getcwd()\n",
    "\n",
    "\n",
    "#from utilities.ReportMagics import *\n",
    "\n",
    "#%reset_all"
   ]
  },
  {
   "cell_type": "code",
   "execution_count": 42,
   "metadata": {},
   "outputs": [
    {
     "name": "stdout",
     "output_type": "stream",
     "text": [
      "Fichier de configuration: /Volumes/Data/data_analysis/EILV/projects/L2M-alimentation/config-L2M-alimentation.yaml\n"
     ]
    }
   ],
   "source": [
    "#%%add_conf_code_to_report\n",
    "import os\n",
    "# workingDir = '.'\n",
    "# os.chdir(workingDir)\n",
    "\n",
    "conf_file = '%sconfig-L2M-alimentation.yaml' %projectDir\n",
    "Sample_Size = 10000\n",
    "\n",
    "export_dir = '%stmp/' %projectDir\n",
    "print ('Fichier de configuration: %s' %conf_file)"
   ]
  },
  {
   "cell_type": "markdown",
   "metadata": {},
   "source": [
    "### Importer les paquets nécessaires et configurer les paramètres de l'environnement"
   ]
  },
  {
   "cell_type": "code",
   "execution_count": 43,
   "metadata": {},
   "outputs": [
    {
     "data": {
      "text/html": [
       "<script>requirejs.config({paths: { 'plotly': ['https://cdn.plot.ly/plotly-latest.min']},});if(!window.Plotly) {{require(['plotly'],function(plotly) {window.Plotly=plotly;});}}</script>"
      ],
      "text/vnd.plotly.v1+html": [
       "<script>requirejs.config({paths: { 'plotly': ['https://cdn.plot.ly/plotly-latest.min']},});if(!window.Plotly) {{require(['plotly'],function(plotly) {window.Plotly=plotly;});}}</script>"
      ]
     },
     "metadata": {},
     "output_type": "display_data"
    },
    {
     "name": "stdout",
     "output_type": "stream",
     "text": [
      "Importation finie !\n"
     ]
    }
   ],
   "source": [
    "#%%add_conf_code_to_report\n",
    "\n",
    "import pandas as pd\n",
    "import numpy as np\n",
    "import os\n",
    "#os.chdir(workingDir)\n",
    "import collections\n",
    "import matplotlib\n",
    "import io\n",
    "import sys\n",
    "import operator\n",
    "\n",
    "import nbformat as nbf\n",
    "from IPython.core.display import HTML\n",
    "from IPython.display import display\n",
    "from ipywidgets import interact, interactive,fixed\n",
    "from IPython.display import Javascript, display,HTML\n",
    "from ipywidgets import widgets, VBox\n",
    "import ipywidgets\n",
    "import IPython\n",
    "from IPython.display import clear_output\n",
    "import scipy.stats as stats\n",
    "from statsmodels.graphics.mosaicplot import mosaic\n",
    "import statsmodels.api as sm\n",
    "from statsmodels.formula.api import ols\n",
    "import os\n",
    "import errno\n",
    "import seaborn as sns\n",
    "from string import Template\n",
    "from functools import partial\n",
    "from collections import OrderedDict\n",
    "\n",
    "# Utility Classes\n",
    "from utilities.ConfUtility import * \n",
    "from utilities.ReportGeneration import *\n",
    "from utilities.UniVarAnalytics import *\n",
    "from utilities.MultiVarAnalytics import *\n",
    "\n",
    "%matplotlib inline\n",
    "\n",
    "# Plotly\n",
    "import plotly.offline as py\n",
    "from plotly import tools as tls\n",
    "py.init_notebook_mode(connected=True) #initiate the Plotly Notebook mode\n",
    "\n",
    "#DEBUG=0\n",
    "\n",
    "font={'family':'normal','weight':'normal','size':8}\n",
    "matplotlib.rc('font',**font)\n",
    "matplotlib.rcParams['figure.figsize'] = (12.0, 5.0)\n",
    "matplotlib.rc('xtick', labelsize=9) \n",
    "matplotlib.rc('ytick', labelsize=9)\n",
    "matplotlib.rc('axes', labelsize=10)\n",
    "matplotlib.rc('axes', titlesize=10)\n",
    "sns.set_style('whitegrid')\n",
    "\n",
    "print ('Importation finie !')"
   ]
  },
  {
   "cell_type": "markdown",
   "metadata": {},
   "source": [
    "## <a name=\"read and summarize\"></a> Lecture récapitulative des données"
   ]
  },
  {
   "cell_type": "markdown",
   "metadata": {},
   "source": [
    "### Lire les données et déduire les types de colonnes"
   ]
  },
  {
   "cell_type": "code",
   "execution_count": 46,
   "metadata": {},
   "outputs": [
    {
     "data": {
      "text/html": [
       "<ul><li>Les variables quantitatives sont A1_A_cereales, \n",
       "A1_B_racines, \n",
       "A1_C_noix, \n",
       "A1_D_legumes, \n",
       "A1_E_viandes, \n",
       "A1_F_fruits, \n",
       "A1_G_par_vendeurs, \n",
       "A1_H_laitiers, \n",
       "A1_I_graisses, \n",
       "A1_J_sucres, \n",
       "A1_K_epices, \n",
       "A1_L_boissons, \n",
       "B2_a_moins_apprecies, \n",
       "B2_b_portions_limites, \n",
       "B2_c_reduire_nbr_repas, \n",
       "B2_d_restreindre_adultes, \n",
       "B2_e_emprunts, \n",
       "B3_a_repas_adultes, \n",
       "B3_b_repas_enfants, \n",
       "taille_famille, \n",
       "age_chef_f</li><li>Les variables qualitatives sont taille_famille_gp, \n",
       "niveau_instruction_chef_f, \n",
       "grappe, \n",
       "genre_chef_f, \n",
       "categorie_consommation, \n",
       "age_groupe, \n",
       "REGION, \n",
       "QB7_8_vendre_propriete, \n",
       "QB7_7_reporter_education, \n",
       "QB7_6_reporter_articles, \n",
       "QB7_5_emprunt_argent, \n",
       "QB7_4_changer_prep, \n",
       "QB7_3_alim_moins_apprecies, \n",
       "QB7_2_limiter_portions, \n",
       "QB7_1_reduire_repas, \n",
       "QB5_Mai_manque, \n",
       "QB5_Juin_manque, \n",
       "QB5_Juillet_manque, \n",
       "QB5_Avril_manque, \n",
       "MILIEU, \n",
       "B8_mange_moins, \n",
       "B6_cause, \n",
       "B6_9_nom_autres_causes, \n",
       "B4_manque_alim_4m, \n",
       "B1_crainte_sous_alim_7j</li><li>La cible est B4_manque_alim_4m</li></ul>"
      ],
      "text/plain": [
       "<IPython.core.display.HTML object>"
      ]
     },
     "execution_count": 46,
     "metadata": {},
     "output_type": "execute_result"
    }
   ],
   "source": [
    "#%%add_conf_code_to_report\n",
    "\n",
    "conf_dict = ConfUtility.parse_yaml(conf_file)\n",
    "\n",
    "# Read in data from local file or SQL server\n",
    "if 'DataSource' not in conf_dict:\n",
    "    df=pd.read_csv('%s%s' %(projectDir,conf_dict['DataFilePath'][0]), skipinitialspace=True, encoding='utf-16')\n",
    "else:\n",
    "    import pyodbc\n",
    "    cnxn = pyodbc.connect('driver=MySQL ODBC 3.51 Driver;server={};database={};Uid={};Pwd={}'.format(\n",
    "            conf_dict['Server'], conf_dict['Database'],conf_dict['Username'],conf_dict['Password']))\n",
    "    df = pd.read_sql(conf_dict['Query'],cnxn)\n",
    "\n",
    "# Making sure that we are not reading any extra column\n",
    "df = df[[each for each in df.columns if 'Unnamed' not in each]]\n",
    "\n",
    "# Sampling Data if data size is larger than 10k\n",
    "df0 = df # df0 is the unsampled data. Will be used in data exploration and analysis where sampling is not needed\n",
    "         # However, keep in mind that your final report will always be based on the sampled data. \n",
    "if Sample_Size < df.shape[0]:\n",
    "    df = df.sample(Sample_Size)\n",
    "\n",
    "# change float data types\n",
    "if 'FloatDataTypes' in conf_dict:   \n",
    "    for col_name in conf_dict['FloatDataTypes']:\n",
    "        df[col_name] = df[col_name].astype(float)      \n",
    "        \n",
    "# Getting the list of categorical columns if it was not there in the yaml file\n",
    "if 'CategoricalColumns' not in conf_dict:\n",
    "    conf_dict['CategoricalColumns'] = list(set(list(df.select_dtypes(exclude=[np.number]).columns)))\n",
    "\n",
    "# Getting the list of numerical columns if it was not there in the yaml file\n",
    "if 'NumericalColumns' not in conf_dict:\n",
    "    conf_dict['NumericalColumns'] = list(df.select_dtypes(include=[np.number]).columns)    \n",
    "\n",
    "# Exclude columns that we do not need\n",
    "if 'ColumnsToExclude' in conf_dict:\n",
    "    conf_dict['CategoricalColumns'] = list(set(conf_dict['CategoricalColumns'])-set(conf_dict['ColumnsToExclude']))\n",
    "    conf_dict['NumericalColumns'] = list(set(conf_dict['NumericalColumns'])-set(conf_dict['ColumnsToExclude']))\n",
    "\n",
    "# Ordering the categorical variables according to the number of unique categories\n",
    "filtered_cat_columns = []\n",
    "temp_dict = {}\n",
    "for cat_var in conf_dict['CategoricalColumns']:\n",
    "    temp_dict[cat_var] = len(np.unique(df[cat_var]))\n",
    "sorted_x = sorted(temp_dict.items(), key=operator.itemgetter(0), reverse=True)\n",
    "conf_dict['CategoricalColumns'] = [x for (x,y) in sorted_x]\n",
    "\n",
    "ConfUtility.dict_to_htmllist(conf_dict,['Target','CategoricalColumns','NumericalColumns'])"
   ]
  },
  {
   "cell_type": "markdown",
   "metadata": {},
   "source": [
    "### Lister les n-premières lignes (par défault, n=5)"
   ]
  },
  {
   "cell_type": "code",
   "execution_count": 47,
   "metadata": {},
   "outputs": [
    {
     "data": {
      "application/vnd.jupyter.widget-view+json": {
       "model_id": "8b1e4fc5f77b4bc1a0ec096f05d003a7",
       "version_major": 2,
       "version_minor": 0
      },
      "text/plain": [
       "interactive(children=(IntSlider(value=5, description='Nombre de ligne', max=1000), Output()), _dom_classes=('w…"
      ]
     },
     "metadata": {},
     "output_type": "display_data"
    }
   ],
   "source": [
    "def custom_head(df,NoOfRows):\n",
    "    return HTML(df.head(NoOfRows).style.set_table_attributes(\"class='table'\").render())\n",
    "i = interact(custom_head,df=fixed(df0), NoOfRows=ipywidgets.IntSlider(min=0, max=1000, step=1, \\\n",
    "                                                                     value=5, description='Nombre de ligne'))"
   ]
  },
  {
   "cell_type": "markdown",
   "metadata": {},
   "source": [
    "### Afficher les dimensions des données (lignes, colonnes)"
   ]
  },
  {
   "cell_type": "code",
   "execution_count": 48,
   "metadata": {
    "scrolled": false
   },
   "outputs": [
    {
     "name": "stdout",
     "output_type": "stream",
     "text": [
      "1865 lignes | 52 colonnes\n"
     ]
    }
   ],
   "source": [
    "print ('{} lignes | {} colonnes'.format(df0.shape[0],df0.shape[1]))"
   ]
  },
  {
   "cell_type": "markdown",
   "metadata": {},
   "source": [
    "### Imprimer les noms des variables (colonnes)"
   ]
  },
  {
   "cell_type": "code",
   "execution_count": 49,
   "metadata": {
    "scrolled": true
   },
   "outputs": [
    {
     "name": "stdout",
     "output_type": "stream",
     "text": [
      "Les variables sont :id_famille,date_deb,A1_A_cereales,A1_B_racines,A1_C_noix,A1_D_legumes,A1_E_viandes,A1_F_fruits,A1_G_par_vendeurs,A1_H_laitiers,A1_I_graisses,A1_J_sucres,A1_K_epices,A1_L_boissons,B2_a_moins_apprecies,B2_b_portions_limites,B2_c_reduire_nbr_repas,B2_d_restreindre_adultes,B2_e_emprunts,B3_a_repas_adultes,B3_b_repas_enfants,QB5_Avril_manque,QB5_Mai_manque,QB5_Juin_manque,QB5_Juillet_manque,B6_9_nom_autres_causes,QB7_1_reduire_repas,QB7_2_limiter_portions,QB7_3_alim_moins_apprecies,QB7_4_changer_prep,QB7_5_emprunt_argent,QB7_6_reporter_articles,QB7_7_reporter_education,QB7_8_vendre_propriete,date_fin,grappe,B1_crainte_sous_alim_7j,B4_manque_alim_4m,B6_cause,som,B8_mange_moins,REGION,taille_famille,MILIEU,POIDS,categorie_consommation,taille_famille_gp,genre_chef_f,age_chef_f,age_mean,age_groupe,niveau_instruction_chef_f\n"
     ]
    }
   ],
   "source": [
    "col_names = ','.join(each for each in list(df.columns))\n",
    "print(\"Les variables sont :\" + col_names)"
   ]
  },
  {
   "cell_type": "markdown",
   "metadata": {},
   "source": [
    "### Afficher les types de colonnes"
   ]
  },
  {
   "cell_type": "code",
   "execution_count": 50,
   "metadata": {
    "scrolled": false
   },
   "outputs": [
    {
     "name": "stdout",
     "output_type": "stream",
     "text": [
      "Types des variables:\n"
     ]
    },
    {
     "data": {
      "text/plain": [
       "id_famille                      int64\n",
       "date_deb                       object\n",
       "A1_A_cereales                   int64\n",
       "A1_B_racines                    int64\n",
       "A1_C_noix                       int64\n",
       "A1_D_legumes                    int64\n",
       "A1_E_viandes                    int64\n",
       "A1_F_fruits                     int64\n",
       "A1_G_par_vendeurs               int64\n",
       "A1_H_laitiers                   int64\n",
       "A1_I_graisses                   int64\n",
       "A1_J_sucres                     int64\n",
       "A1_K_epices                     int64\n",
       "A1_L_boissons                   int64\n",
       "B2_a_moins_apprecies            int64\n",
       "B2_b_portions_limites           int64\n",
       "B2_c_reduire_nbr_repas          int64\n",
       "B2_d_restreindre_adultes        int64\n",
       "B2_e_emprunts                   int64\n",
       "B3_a_repas_adultes            float64\n",
       "B3_b_repas_enfants              int64\n",
       "QB5_Avril_manque               object\n",
       "QB5_Mai_manque                 object\n",
       "QB5_Juin_manque                object\n",
       "QB5_Juillet_manque             object\n",
       "B6_9_nom_autres_causes         object\n",
       "QB7_1_reduire_repas            object\n",
       "QB7_2_limiter_portions         object\n",
       "QB7_3_alim_moins_apprecies     object\n",
       "QB7_4_changer_prep             object\n",
       "QB7_5_emprunt_argent           object\n",
       "QB7_6_reporter_articles        object\n",
       "QB7_7_reporter_education       object\n",
       "QB7_8_vendre_propriete         object\n",
       "date_fin                       object\n",
       "grappe                          int64\n",
       "B1_crainte_sous_alim_7j        object\n",
       "B4_manque_alim_4m              object\n",
       "B6_cause                       object\n",
       "som                             int64\n",
       "B8_mange_moins                 object\n",
       "REGION                         object\n",
       "taille_famille                  int64\n",
       "MILIEU                         object\n",
       "POIDS                         float64\n",
       "categorie_consommation         object\n",
       "taille_famille_gp              object\n",
       "genre_chef_f                   object\n",
       "age_chef_f                      int64\n",
       "age_mean                      float64\n",
       "age_groupe                     object\n",
       "niveau_instruction_chef_f      object\n",
       "dtype: object"
      ]
     },
     "execution_count": 50,
     "metadata": {},
     "output_type": "execute_result"
    }
   ],
   "source": [
    "print(\"Types des variables:\")\n",
    "df.dtypes"
   ]
  },
  {
   "cell_type": "markdown",
   "metadata": {},
   "source": [
    "## <a name=\"individual variable\"></a>Extraire les statistiques descriptives de chaque colonne"
   ]
  },
  {
   "cell_type": "code",
   "execution_count": 51,
   "metadata": {},
   "outputs": [],
   "source": [
    "def num_missing(x):\n",
    "    return len(x.index)-x.count()\n",
    "\n",
    "def num_unique(x):\n",
    "    return len(np.unique(x))\n",
    "\n",
    "temp_df = df0.describe().T\n",
    "missing_df = pd.DataFrame(df0.apply(num_missing, axis=0)) \n",
    "missing_df.columns = ['données manquantes']\n",
    "unq_df = pd.DataFrame(df0.apply(num_unique, axis=0))\n",
    "unq_df.columns = ['unique']\n",
    "types_df = pd.DataFrame(df0.dtypes)\n",
    "types_df.columns = ['Type de données']"
   ]
  },
  {
   "cell_type": "markdown",
   "metadata": {},
   "source": [
    "### Afficher les statistiques descriptives des variables quantitatives"
   ]
  },
  {
   "cell_type": "code",
   "execution_count": 52,
   "metadata": {},
   "outputs": [
    {
     "data": {
      "text/html": [
       "<div>\n",
       "<style scoped>\n",
       "    .dataframe tbody tr th:only-of-type {\n",
       "        vertical-align: middle;\n",
       "    }\n",
       "\n",
       "    .dataframe tbody tr th {\n",
       "        vertical-align: top;\n",
       "    }\n",
       "\n",
       "    .dataframe thead th {\n",
       "        text-align: right;\n",
       "    }\n",
       "</style>\n",
       "<table border=\"1\" class=\"dataframe\">\n",
       "  <thead>\n",
       "    <tr style=\"text-align: right;\">\n",
       "      <th></th>\n",
       "      <th>count</th>\n",
       "      <th>mean</th>\n",
       "      <th>std</th>\n",
       "      <th>min</th>\n",
       "      <th>25%</th>\n",
       "      <th>50%</th>\n",
       "      <th>75%</th>\n",
       "      <th>max</th>\n",
       "      <th>données manquantes</th>\n",
       "      <th>unique</th>\n",
       "      <th>Type de données</th>\n",
       "    </tr>\n",
       "  </thead>\n",
       "  <tbody>\n",
       "    <tr>\n",
       "      <th>id_famille</th>\n",
       "      <td>1865.0</td>\n",
       "      <td>27148.705094</td>\n",
       "      <td>19539.094785</td>\n",
       "      <td>101.0000</td>\n",
       "      <td>8725.000000</td>\n",
       "      <td>25421.000000</td>\n",
       "      <td>43030.00000</td>\n",
       "      <td>61430.0</td>\n",
       "      <td>0</td>\n",
       "      <td>1865</td>\n",
       "      <td>int64</td>\n",
       "    </tr>\n",
       "    <tr>\n",
       "      <th>A1_A_cereales</th>\n",
       "      <td>1865.0</td>\n",
       "      <td>6.810188</td>\n",
       "      <td>0.954098</td>\n",
       "      <td>0.0000</td>\n",
       "      <td>7.000000</td>\n",
       "      <td>7.000000</td>\n",
       "      <td>7.00000</td>\n",
       "      <td>7.0</td>\n",
       "      <td>0</td>\n",
       "      <td>8</td>\n",
       "      <td>int64</td>\n",
       "    </tr>\n",
       "    <tr>\n",
       "      <th>A1_B_racines</th>\n",
       "      <td>1865.0</td>\n",
       "      <td>2.764075</td>\n",
       "      <td>2.359825</td>\n",
       "      <td>0.0000</td>\n",
       "      <td>1.000000</td>\n",
       "      <td>2.000000</td>\n",
       "      <td>4.00000</td>\n",
       "      <td>7.0</td>\n",
       "      <td>0</td>\n",
       "      <td>8</td>\n",
       "      <td>int64</td>\n",
       "    </tr>\n",
       "    <tr>\n",
       "      <th>A1_C_noix</th>\n",
       "      <td>1865.0</td>\n",
       "      <td>1.877212</td>\n",
       "      <td>1.480720</td>\n",
       "      <td>0.0000</td>\n",
       "      <td>1.000000</td>\n",
       "      <td>2.000000</td>\n",
       "      <td>3.00000</td>\n",
       "      <td>7.0</td>\n",
       "      <td>0</td>\n",
       "      <td>8</td>\n",
       "      <td>int64</td>\n",
       "    </tr>\n",
       "    <tr>\n",
       "      <th>A1_D_legumes</th>\n",
       "      <td>1865.0</td>\n",
       "      <td>5.207507</td>\n",
       "      <td>2.135523</td>\n",
       "      <td>0.0000</td>\n",
       "      <td>4.000000</td>\n",
       "      <td>6.000000</td>\n",
       "      <td>7.00000</td>\n",
       "      <td>7.0</td>\n",
       "      <td>0</td>\n",
       "      <td>8</td>\n",
       "      <td>int64</td>\n",
       "    </tr>\n",
       "    <tr>\n",
       "      <th>A1_E_viandes</th>\n",
       "      <td>1865.0</td>\n",
       "      <td>2.694906</td>\n",
       "      <td>2.114405</td>\n",
       "      <td>0.0000</td>\n",
       "      <td>1.000000</td>\n",
       "      <td>2.000000</td>\n",
       "      <td>4.00000</td>\n",
       "      <td>7.0</td>\n",
       "      <td>0</td>\n",
       "      <td>8</td>\n",
       "      <td>int64</td>\n",
       "    </tr>\n",
       "    <tr>\n",
       "      <th>A1_F_fruits</th>\n",
       "      <td>1865.0</td>\n",
       "      <td>3.068097</td>\n",
       "      <td>2.810766</td>\n",
       "      <td>0.0000</td>\n",
       "      <td>0.000000</td>\n",
       "      <td>2.000000</td>\n",
       "      <td>7.00000</td>\n",
       "      <td>7.0</td>\n",
       "      <td>0</td>\n",
       "      <td>8</td>\n",
       "      <td>int64</td>\n",
       "    </tr>\n",
       "    <tr>\n",
       "      <th>A1_G_par_vendeurs</th>\n",
       "      <td>1865.0</td>\n",
       "      <td>0.356032</td>\n",
       "      <td>1.172282</td>\n",
       "      <td>0.0000</td>\n",
       "      <td>0.000000</td>\n",
       "      <td>0.000000</td>\n",
       "      <td>0.00000</td>\n",
       "      <td>7.0</td>\n",
       "      <td>0</td>\n",
       "      <td>8</td>\n",
       "      <td>int64</td>\n",
       "    </tr>\n",
       "    <tr>\n",
       "      <th>A1_H_laitiers</th>\n",
       "      <td>1865.0</td>\n",
       "      <td>1.899732</td>\n",
       "      <td>2.564223</td>\n",
       "      <td>0.0000</td>\n",
       "      <td>0.000000</td>\n",
       "      <td>0.000000</td>\n",
       "      <td>3.00000</td>\n",
       "      <td>7.0</td>\n",
       "      <td>0</td>\n",
       "      <td>8</td>\n",
       "      <td>int64</td>\n",
       "    </tr>\n",
       "    <tr>\n",
       "      <th>A1_I_graisses</th>\n",
       "      <td>1865.0</td>\n",
       "      <td>5.671850</td>\n",
       "      <td>2.092185</td>\n",
       "      <td>0.0000</td>\n",
       "      <td>5.000000</td>\n",
       "      <td>7.000000</td>\n",
       "      <td>7.00000</td>\n",
       "      <td>7.0</td>\n",
       "      <td>0</td>\n",
       "      <td>8</td>\n",
       "      <td>int64</td>\n",
       "    </tr>\n",
       "    <tr>\n",
       "      <th>A1_J_sucres</th>\n",
       "      <td>1865.0</td>\n",
       "      <td>5.910456</td>\n",
       "      <td>2.236553</td>\n",
       "      <td>0.0000</td>\n",
       "      <td>7.000000</td>\n",
       "      <td>7.000000</td>\n",
       "      <td>7.00000</td>\n",
       "      <td>7.0</td>\n",
       "      <td>0</td>\n",
       "      <td>8</td>\n",
       "      <td>int64</td>\n",
       "    </tr>\n",
       "    <tr>\n",
       "      <th>A1_K_epices</th>\n",
       "      <td>1865.0</td>\n",
       "      <td>4.974263</td>\n",
       "      <td>3.033324</td>\n",
       "      <td>0.0000</td>\n",
       "      <td>2.000000</td>\n",
       "      <td>7.000000</td>\n",
       "      <td>7.00000</td>\n",
       "      <td>7.0</td>\n",
       "      <td>0</td>\n",
       "      <td>8</td>\n",
       "      <td>int64</td>\n",
       "    </tr>\n",
       "    <tr>\n",
       "      <th>A1_L_boissons</th>\n",
       "      <td>1865.0</td>\n",
       "      <td>4.572654</td>\n",
       "      <td>3.120128</td>\n",
       "      <td>0.0000</td>\n",
       "      <td>0.000000</td>\n",
       "      <td>7.000000</td>\n",
       "      <td>7.00000</td>\n",
       "      <td>7.0</td>\n",
       "      <td>0</td>\n",
       "      <td>8</td>\n",
       "      <td>int64</td>\n",
       "    </tr>\n",
       "    <tr>\n",
       "      <th>B2_a_moins_apprecies</th>\n",
       "      <td>1865.0</td>\n",
       "      <td>0.493834</td>\n",
       "      <td>1.402056</td>\n",
       "      <td>0.0000</td>\n",
       "      <td>0.000000</td>\n",
       "      <td>0.000000</td>\n",
       "      <td>0.00000</td>\n",
       "      <td>7.0</td>\n",
       "      <td>0</td>\n",
       "      <td>7</td>\n",
       "      <td>int64</td>\n",
       "    </tr>\n",
       "    <tr>\n",
       "      <th>B2_b_portions_limites</th>\n",
       "      <td>1865.0</td>\n",
       "      <td>0.757641</td>\n",
       "      <td>1.766773</td>\n",
       "      <td>0.0000</td>\n",
       "      <td>0.000000</td>\n",
       "      <td>0.000000</td>\n",
       "      <td>0.00000</td>\n",
       "      <td>7.0</td>\n",
       "      <td>0</td>\n",
       "      <td>7</td>\n",
       "      <td>int64</td>\n",
       "    </tr>\n",
       "    <tr>\n",
       "      <th>B2_c_reduire_nbr_repas</th>\n",
       "      <td>1865.0</td>\n",
       "      <td>0.339410</td>\n",
       "      <td>1.150236</td>\n",
       "      <td>0.0000</td>\n",
       "      <td>0.000000</td>\n",
       "      <td>0.000000</td>\n",
       "      <td>0.00000</td>\n",
       "      <td>7.0</td>\n",
       "      <td>0</td>\n",
       "      <td>8</td>\n",
       "      <td>int64</td>\n",
       "    </tr>\n",
       "    <tr>\n",
       "      <th>B2_d_restreindre_adultes</th>\n",
       "      <td>1865.0</td>\n",
       "      <td>0.424665</td>\n",
       "      <td>1.291617</td>\n",
       "      <td>0.0000</td>\n",
       "      <td>0.000000</td>\n",
       "      <td>0.000000</td>\n",
       "      <td>0.00000</td>\n",
       "      <td>7.0</td>\n",
       "      <td>0</td>\n",
       "      <td>8</td>\n",
       "      <td>int64</td>\n",
       "    </tr>\n",
       "    <tr>\n",
       "      <th>B2_e_emprunts</th>\n",
       "      <td>1865.0</td>\n",
       "      <td>0.287399</td>\n",
       "      <td>0.957788</td>\n",
       "      <td>0.0000</td>\n",
       "      <td>0.000000</td>\n",
       "      <td>0.000000</td>\n",
       "      <td>0.00000</td>\n",
       "      <td>7.0</td>\n",
       "      <td>0</td>\n",
       "      <td>7</td>\n",
       "      <td>int64</td>\n",
       "    </tr>\n",
       "    <tr>\n",
       "      <th>B3_a_repas_adultes</th>\n",
       "      <td>1865.0</td>\n",
       "      <td>2.924836</td>\n",
       "      <td>0.405927</td>\n",
       "      <td>0.0000</td>\n",
       "      <td>3.000000</td>\n",
       "      <td>3.000000</td>\n",
       "      <td>3.00000</td>\n",
       "      <td>8.0</td>\n",
       "      <td>0</td>\n",
       "      <td>17</td>\n",
       "      <td>float64</td>\n",
       "    </tr>\n",
       "    <tr>\n",
       "      <th>B3_b_repas_enfants</th>\n",
       "      <td>1865.0</td>\n",
       "      <td>1.469705</td>\n",
       "      <td>1.750312</td>\n",
       "      <td>0.0000</td>\n",
       "      <td>0.000000</td>\n",
       "      <td>0.000000</td>\n",
       "      <td>3.00000</td>\n",
       "      <td>6.0</td>\n",
       "      <td>0</td>\n",
       "      <td>7</td>\n",
       "      <td>int64</td>\n",
       "    </tr>\n",
       "    <tr>\n",
       "      <th>grappe</th>\n",
       "      <td>1865.0</td>\n",
       "      <td>271.323324</td>\n",
       "      <td>195.390873</td>\n",
       "      <td>1.0000</td>\n",
       "      <td>87.000000</td>\n",
       "      <td>254.000000</td>\n",
       "      <td>430.00000</td>\n",
       "      <td>614.0</td>\n",
       "      <td>0</td>\n",
       "      <td>196</td>\n",
       "      <td>int64</td>\n",
       "    </tr>\n",
       "    <tr>\n",
       "      <th>som</th>\n",
       "      <td>1865.0</td>\n",
       "      <td>0.494906</td>\n",
       "      <td>1.056911</td>\n",
       "      <td>0.0000</td>\n",
       "      <td>0.000000</td>\n",
       "      <td>0.000000</td>\n",
       "      <td>0.00000</td>\n",
       "      <td>6.0</td>\n",
       "      <td>0</td>\n",
       "      <td>7</td>\n",
       "      <td>int64</td>\n",
       "    </tr>\n",
       "    <tr>\n",
       "      <th>taille_famille</th>\n",
       "      <td>1865.0</td>\n",
       "      <td>4.524397</td>\n",
       "      <td>2.130297</td>\n",
       "      <td>1.0000</td>\n",
       "      <td>3.000000</td>\n",
       "      <td>4.000000</td>\n",
       "      <td>6.00000</td>\n",
       "      <td>15.0</td>\n",
       "      <td>0</td>\n",
       "      <td>15</td>\n",
       "      <td>int64</td>\n",
       "    </tr>\n",
       "    <tr>\n",
       "      <th>POIDS</th>\n",
       "      <td>1865.0</td>\n",
       "      <td>4.475639</td>\n",
       "      <td>0.932048</td>\n",
       "      <td>2.8166</td>\n",
       "      <td>3.857143</td>\n",
       "      <td>4.318182</td>\n",
       "      <td>5.00000</td>\n",
       "      <td>9.6</td>\n",
       "      <td>0</td>\n",
       "      <td>85</td>\n",
       "      <td>float64</td>\n",
       "    </tr>\n",
       "    <tr>\n",
       "      <th>age_chef_f</th>\n",
       "      <td>1865.0</td>\n",
       "      <td>44.907239</td>\n",
       "      <td>14.408527</td>\n",
       "      <td>18.0000</td>\n",
       "      <td>34.000000</td>\n",
       "      <td>44.000000</td>\n",
       "      <td>55.00000</td>\n",
       "      <td>99.0</td>\n",
       "      <td>0</td>\n",
       "      <td>73</td>\n",
       "      <td>int64</td>\n",
       "    </tr>\n",
       "    <tr>\n",
       "      <th>age_mean</th>\n",
       "      <td>1865.0</td>\n",
       "      <td>44.906638</td>\n",
       "      <td>5.471379</td>\n",
       "      <td>26.8000</td>\n",
       "      <td>41.222220</td>\n",
       "      <td>44.500000</td>\n",
       "      <td>48.63636</td>\n",
       "      <td>62.0</td>\n",
       "      <td>0</td>\n",
       "      <td>160</td>\n",
       "      <td>float64</td>\n",
       "    </tr>\n",
       "  </tbody>\n",
       "</table>\n",
       "</div>"
      ],
      "text/plain": [
       "                           count          mean           std       min  \\\n",
       "id_famille                1865.0  27148.705094  19539.094785  101.0000   \n",
       "A1_A_cereales             1865.0      6.810188      0.954098    0.0000   \n",
       "A1_B_racines              1865.0      2.764075      2.359825    0.0000   \n",
       "A1_C_noix                 1865.0      1.877212      1.480720    0.0000   \n",
       "A1_D_legumes              1865.0      5.207507      2.135523    0.0000   \n",
       "A1_E_viandes              1865.0      2.694906      2.114405    0.0000   \n",
       "A1_F_fruits               1865.0      3.068097      2.810766    0.0000   \n",
       "A1_G_par_vendeurs         1865.0      0.356032      1.172282    0.0000   \n",
       "A1_H_laitiers             1865.0      1.899732      2.564223    0.0000   \n",
       "A1_I_graisses             1865.0      5.671850      2.092185    0.0000   \n",
       "A1_J_sucres               1865.0      5.910456      2.236553    0.0000   \n",
       "A1_K_epices               1865.0      4.974263      3.033324    0.0000   \n",
       "A1_L_boissons             1865.0      4.572654      3.120128    0.0000   \n",
       "B2_a_moins_apprecies      1865.0      0.493834      1.402056    0.0000   \n",
       "B2_b_portions_limites     1865.0      0.757641      1.766773    0.0000   \n",
       "B2_c_reduire_nbr_repas    1865.0      0.339410      1.150236    0.0000   \n",
       "B2_d_restreindre_adultes  1865.0      0.424665      1.291617    0.0000   \n",
       "B2_e_emprunts             1865.0      0.287399      0.957788    0.0000   \n",
       "B3_a_repas_adultes        1865.0      2.924836      0.405927    0.0000   \n",
       "B3_b_repas_enfants        1865.0      1.469705      1.750312    0.0000   \n",
       "grappe                    1865.0    271.323324    195.390873    1.0000   \n",
       "som                       1865.0      0.494906      1.056911    0.0000   \n",
       "taille_famille            1865.0      4.524397      2.130297    1.0000   \n",
       "POIDS                     1865.0      4.475639      0.932048    2.8166   \n",
       "age_chef_f                1865.0     44.907239     14.408527   18.0000   \n",
       "age_mean                  1865.0     44.906638      5.471379   26.8000   \n",
       "\n",
       "                                  25%           50%          75%      max  \\\n",
       "id_famille                8725.000000  25421.000000  43030.00000  61430.0   \n",
       "A1_A_cereales                7.000000      7.000000      7.00000      7.0   \n",
       "A1_B_racines                 1.000000      2.000000      4.00000      7.0   \n",
       "A1_C_noix                    1.000000      2.000000      3.00000      7.0   \n",
       "A1_D_legumes                 4.000000      6.000000      7.00000      7.0   \n",
       "A1_E_viandes                 1.000000      2.000000      4.00000      7.0   \n",
       "A1_F_fruits                  0.000000      2.000000      7.00000      7.0   \n",
       "A1_G_par_vendeurs            0.000000      0.000000      0.00000      7.0   \n",
       "A1_H_laitiers                0.000000      0.000000      3.00000      7.0   \n",
       "A1_I_graisses                5.000000      7.000000      7.00000      7.0   \n",
       "A1_J_sucres                  7.000000      7.000000      7.00000      7.0   \n",
       "A1_K_epices                  2.000000      7.000000      7.00000      7.0   \n",
       "A1_L_boissons                0.000000      7.000000      7.00000      7.0   \n",
       "B2_a_moins_apprecies         0.000000      0.000000      0.00000      7.0   \n",
       "B2_b_portions_limites        0.000000      0.000000      0.00000      7.0   \n",
       "B2_c_reduire_nbr_repas       0.000000      0.000000      0.00000      7.0   \n",
       "B2_d_restreindre_adultes     0.000000      0.000000      0.00000      7.0   \n",
       "B2_e_emprunts                0.000000      0.000000      0.00000      7.0   \n",
       "B3_a_repas_adultes           3.000000      3.000000      3.00000      8.0   \n",
       "B3_b_repas_enfants           0.000000      0.000000      3.00000      6.0   \n",
       "grappe                      87.000000    254.000000    430.00000    614.0   \n",
       "som                          0.000000      0.000000      0.00000      6.0   \n",
       "taille_famille               3.000000      4.000000      6.00000     15.0   \n",
       "POIDS                        3.857143      4.318182      5.00000      9.6   \n",
       "age_chef_f                  34.000000     44.000000     55.00000     99.0   \n",
       "age_mean                    41.222220     44.500000     48.63636     62.0   \n",
       "\n",
       "                          données manquantes  unique Type de données  \n",
       "id_famille                                 0    1865           int64  \n",
       "A1_A_cereales                              0       8           int64  \n",
       "A1_B_racines                               0       8           int64  \n",
       "A1_C_noix                                  0       8           int64  \n",
       "A1_D_legumes                               0       8           int64  \n",
       "A1_E_viandes                               0       8           int64  \n",
       "A1_F_fruits                                0       8           int64  \n",
       "A1_G_par_vendeurs                          0       8           int64  \n",
       "A1_H_laitiers                              0       8           int64  \n",
       "A1_I_graisses                              0       8           int64  \n",
       "A1_J_sucres                                0       8           int64  \n",
       "A1_K_epices                                0       8           int64  \n",
       "A1_L_boissons                              0       8           int64  \n",
       "B2_a_moins_apprecies                       0       7           int64  \n",
       "B2_b_portions_limites                      0       7           int64  \n",
       "B2_c_reduire_nbr_repas                     0       8           int64  \n",
       "B2_d_restreindre_adultes                   0       8           int64  \n",
       "B2_e_emprunts                              0       7           int64  \n",
       "B3_a_repas_adultes                         0      17         float64  \n",
       "B3_b_repas_enfants                         0       7           int64  \n",
       "grappe                                     0     196           int64  \n",
       "som                                        0       7           int64  \n",
       "taille_famille                             0      15           int64  \n",
       "POIDS                                      0      85         float64  \n",
       "age_chef_f                                 0      73           int64  \n",
       "age_mean                                   0     160         float64  "
      ]
     },
     "execution_count": 52,
     "metadata": {},
     "output_type": "execute_result"
    }
   ],
   "source": [
    "summary_df = temp_df.join(missing_df).join(unq_df).join(types_df)\n",
    "summary_df"
   ]
  },
  {
   "cell_type": "markdown",
   "metadata": {},
   "source": [
    "### Afficher les statistiques descriptives des variables qualitatives"
   ]
  },
  {
   "cell_type": "code",
   "execution_count": 53,
   "metadata": {},
   "outputs": [
    {
     "data": {
      "text/html": [
       "<div>\n",
       "<style scoped>\n",
       "    .dataframe tbody tr th:only-of-type {\n",
       "        vertical-align: middle;\n",
       "    }\n",
       "\n",
       "    .dataframe tbody tr th {\n",
       "        vertical-align: top;\n",
       "    }\n",
       "\n",
       "    .dataframe thead th {\n",
       "        text-align: right;\n",
       "    }\n",
       "</style>\n",
       "<table border=\"1\" class=\"dataframe\">\n",
       "  <thead>\n",
       "    <tr style=\"text-align: right;\">\n",
       "      <th></th>\n",
       "      <th>données manquantes</th>\n",
       "      <th>unique</th>\n",
       "      <th>Type de données</th>\n",
       "    </tr>\n",
       "  </thead>\n",
       "  <tbody>\n",
       "    <tr>\n",
       "      <th>QB5_Avril_manque</th>\n",
       "      <td>0</td>\n",
       "      <td>3</td>\n",
       "      <td>object</td>\n",
       "    </tr>\n",
       "    <tr>\n",
       "      <th>QB5_Mai_manque</th>\n",
       "      <td>0</td>\n",
       "      <td>3</td>\n",
       "      <td>object</td>\n",
       "    </tr>\n",
       "    <tr>\n",
       "      <th>QB5_Juin_manque</th>\n",
       "      <td>0</td>\n",
       "      <td>3</td>\n",
       "      <td>object</td>\n",
       "    </tr>\n",
       "    <tr>\n",
       "      <th>QB5_Juillet_manque</th>\n",
       "      <td>0</td>\n",
       "      <td>3</td>\n",
       "      <td>object</td>\n",
       "    </tr>\n",
       "    <tr>\n",
       "      <th>B6_9_nom_autres_causes</th>\n",
       "      <td>0</td>\n",
       "      <td>192</td>\n",
       "      <td>object</td>\n",
       "    </tr>\n",
       "    <tr>\n",
       "      <th>QB7_1_reduire_repas</th>\n",
       "      <td>0</td>\n",
       "      <td>3</td>\n",
       "      <td>object</td>\n",
       "    </tr>\n",
       "    <tr>\n",
       "      <th>QB7_2_limiter_portions</th>\n",
       "      <td>0</td>\n",
       "      <td>3</td>\n",
       "      <td>object</td>\n",
       "    </tr>\n",
       "    <tr>\n",
       "      <th>QB7_3_alim_moins_apprecies</th>\n",
       "      <td>0</td>\n",
       "      <td>3</td>\n",
       "      <td>object</td>\n",
       "    </tr>\n",
       "    <tr>\n",
       "      <th>QB7_4_changer_prep</th>\n",
       "      <td>0</td>\n",
       "      <td>3</td>\n",
       "      <td>object</td>\n",
       "    </tr>\n",
       "    <tr>\n",
       "      <th>QB7_5_emprunt_argent</th>\n",
       "      <td>0</td>\n",
       "      <td>3</td>\n",
       "      <td>object</td>\n",
       "    </tr>\n",
       "    <tr>\n",
       "      <th>QB7_6_reporter_articles</th>\n",
       "      <td>0</td>\n",
       "      <td>3</td>\n",
       "      <td>object</td>\n",
       "    </tr>\n",
       "    <tr>\n",
       "      <th>QB7_7_reporter_education</th>\n",
       "      <td>0</td>\n",
       "      <td>2</td>\n",
       "      <td>object</td>\n",
       "    </tr>\n",
       "    <tr>\n",
       "      <th>QB7_8_vendre_propriete</th>\n",
       "      <td>0</td>\n",
       "      <td>3</td>\n",
       "      <td>object</td>\n",
       "    </tr>\n",
       "    <tr>\n",
       "      <th>grappe</th>\n",
       "      <td>0</td>\n",
       "      <td>196</td>\n",
       "      <td>int64</td>\n",
       "    </tr>\n",
       "    <tr>\n",
       "      <th>B1_crainte_sous_alim_7j</th>\n",
       "      <td>0</td>\n",
       "      <td>2</td>\n",
       "      <td>object</td>\n",
       "    </tr>\n",
       "    <tr>\n",
       "      <th>B4_manque_alim_4m</th>\n",
       "      <td>0</td>\n",
       "      <td>2</td>\n",
       "      <td>object</td>\n",
       "    </tr>\n",
       "    <tr>\n",
       "      <th>B6_cause</th>\n",
       "      <td>0</td>\n",
       "      <td>10</td>\n",
       "      <td>object</td>\n",
       "    </tr>\n",
       "    <tr>\n",
       "      <th>B8_mange_moins</th>\n",
       "      <td>0</td>\n",
       "      <td>6</td>\n",
       "      <td>object</td>\n",
       "    </tr>\n",
       "    <tr>\n",
       "      <th>REGION</th>\n",
       "      <td>0</td>\n",
       "      <td>23</td>\n",
       "      <td>object</td>\n",
       "    </tr>\n",
       "    <tr>\n",
       "      <th>MILIEU</th>\n",
       "      <td>0</td>\n",
       "      <td>2</td>\n",
       "      <td>object</td>\n",
       "    </tr>\n",
       "    <tr>\n",
       "      <th>categorie_consommation</th>\n",
       "      <td>0</td>\n",
       "      <td>5</td>\n",
       "      <td>object</td>\n",
       "    </tr>\n",
       "    <tr>\n",
       "      <th>taille_famille_gp</th>\n",
       "      <td>0</td>\n",
       "      <td>3</td>\n",
       "      <td>object</td>\n",
       "    </tr>\n",
       "    <tr>\n",
       "      <th>genre_chef_f</th>\n",
       "      <td>0</td>\n",
       "      <td>2</td>\n",
       "      <td>object</td>\n",
       "    </tr>\n",
       "    <tr>\n",
       "      <th>age_groupe</th>\n",
       "      <td>0</td>\n",
       "      <td>3</td>\n",
       "      <td>object</td>\n",
       "    </tr>\n",
       "    <tr>\n",
       "      <th>niveau_instruction_chef_f</th>\n",
       "      <td>0</td>\n",
       "      <td>5</td>\n",
       "      <td>object</td>\n",
       "    </tr>\n",
       "  </tbody>\n",
       "</table>\n",
       "</div>"
      ],
      "text/plain": [
       "                            données manquantes  unique Type de données\n",
       "QB5_Avril_manque                             0       3          object\n",
       "QB5_Mai_manque                               0       3          object\n",
       "QB5_Juin_manque                              0       3          object\n",
       "QB5_Juillet_manque                           0       3          object\n",
       "B6_9_nom_autres_causes                       0     192          object\n",
       "QB7_1_reduire_repas                          0       3          object\n",
       "QB7_2_limiter_portions                       0       3          object\n",
       "QB7_3_alim_moins_apprecies                   0       3          object\n",
       "QB7_4_changer_prep                           0       3          object\n",
       "QB7_5_emprunt_argent                         0       3          object\n",
       "QB7_6_reporter_articles                      0       3          object\n",
       "QB7_7_reporter_education                     0       2          object\n",
       "QB7_8_vendre_propriete                       0       3          object\n",
       "grappe                                       0     196           int64\n",
       "B1_crainte_sous_alim_7j                      0       2          object\n",
       "B4_manque_alim_4m                            0       2          object\n",
       "B6_cause                                     0      10          object\n",
       "B8_mange_moins                               0       6          object\n",
       "REGION                                       0      23          object\n",
       "MILIEU                                       0       2          object\n",
       "categorie_consommation                       0       5          object\n",
       "taille_famille_gp                            0       3          object\n",
       "genre_chef_f                                 0       2          object\n",
       "age_groupe                                   0       3          object\n",
       "niveau_instruction_chef_f                    0       5          object"
      ]
     },
     "execution_count": 53,
     "metadata": {},
     "output_type": "execute_result"
    }
   ],
   "source": [
    "col_names = list(types_df.index) #Get all col names\n",
    "num_cols = len(col_names)\n",
    "index = range(num_cols)\n",
    "cat_index = []\n",
    "for i in index: #Find the indices of columns in Categorical columns\n",
    "    if col_names[i] in conf_dict['CategoricalColumns']:\n",
    "        cat_index.append(i)\n",
    "summary_df_cat = missing_df.join(unq_df).join(types_df.iloc[cat_index], how='inner') #Only summarize categorical columns\n",
    "summary_df_cat"
   ]
  },
  {
   "cell_type": "markdown",
   "metadata": {},
   "source": [
    "## <a name=\"individual variables\"></a>Explorer des variables individuelles"
   ]
  },
  {
   "cell_type": "markdown",
   "metadata": {},
   "source": [
    "### Explorer la variable cible"
   ]
  },
  {
   "cell_type": "code",
   "execution_count": 54,
   "metadata": {
    "scrolled": false
   },
   "outputs": [
    {
     "data": {
      "application/vnd.jupyter.widget-view+json": {
       "model_id": "eeeb2d3616474b6f9c7d68c5bcc82fd0",
       "version_major": 2,
       "version_minor": 0
      },
      "text/plain": [
       "interactive(children=(Dropdown(description='Variable cible:', options=('B4_manque_alim_4m',), value='B4_manque…"
      ]
     },
     "metadata": {},
     "output_type": "display_data"
    }
   ],
   "source": [
    "w1_value,w2_value,w3_value = '','',''\n",
    "w1, w2, w3, w4 = None, None, None, None\n",
    "w1 = widgets.Dropdown(\n",
    "        options=[conf_dict['Target']],\n",
    "        value=conf_dict['Target'],\n",
    "        description='Variable cible:',\n",
    "    )\n",
    "\n",
    "if conf_dict['Target'] in conf_dict['CategoricalColumns']: \n",
    "    i = interactive(TargetAnalytics.custom_barplot, df=fixed(df), col1=w1)\n",
    "else:\n",
    "    i = interactive(NumericAnalytics.custom_barplot, df=fixed(df), col1=w1)\n",
    "display(i)"
   ]
  },
  {
   "cell_type": "markdown",
   "metadata": {},
   "source": [
    "### Explorer des variables numériques individuelles et tester la normalité (sur des données échantillonnées)"
   ]
  },
  {
   "cell_type": "code",
   "execution_count": 55,
   "metadata": {
    "scrolled": false
   },
   "outputs": [
    {
     "data": {
      "application/vnd.jupyter.widget-view+json": {
       "model_id": "f434efd4aab346f5a318fa7e2ac17cb6",
       "version_major": 2,
       "version_minor": 0
      },
      "text/plain": [
       "interactive(children=(Dropdown(description='Numeric Variable:', options=('A1_A_cereales', 'A1_B_racines', 'A1_…"
      ]
     },
     "metadata": {},
     "output_type": "display_data"
    }
   ],
   "source": [
    "w1_value, w2_value, w3_value = '', '', ''\n",
    "w1, w2, w3, w4 = None, None, None, None\n",
    "w1 = widgets.Dropdown(\n",
    "        options=conf_dict['NumericalColumns'],\n",
    "        value=conf_dict['NumericalColumns'][0],\n",
    "        description='Numeric Variable:',\n",
    "    )\n",
    "\n",
    "i = interactive(NumericAnalytics.custom_barplot, df=fixed(df), col1=w1)\n",
    "display(i)"
   ]
  },
  {
   "cell_type": "markdown",
   "metadata": {},
   "source": [
    "### Explorer des variables qualitatives individuelles (triées par fréquences)"
   ]
  },
  {
   "cell_type": "code",
   "execution_count": 56,
   "metadata": {},
   "outputs": [
    {
     "data": {
      "application/vnd.jupyter.widget-view+json": {
       "model_id": "80021b7c70ca4dd28d5e6b00da4d08a3",
       "version_major": 2,
       "version_minor": 0
      },
      "text/plain": [
       "interactive(children=(Dropdown(description='Categorical Variable:', options=('taille_famille_gp', 'niveau_inst…"
      ]
     },
     "metadata": {},
     "output_type": "display_data"
    }
   ],
   "source": [
    "w1_value, w2_value, w3_value = '', '', ''\n",
    "w1, w2, w3, w4 = None, None, None, None\n",
    "w1 = widgets.Dropdown(\n",
    "    options = conf_dict['CategoricalColumns'],\n",
    "    value = conf_dict['CategoricalColumns'][0],\n",
    "    description = 'Categorical Variable:',\n",
    ")\n",
    "# w1.observe (handle_change,'value')\n",
    "i = interactive(CategoricAnalytics.custom_barplot, df=fixed(df), col1=w1)\n",
    "\n",
    "display(i)"
   ]
  },
  {
   "cell_type": "markdown",
   "metadata": {},
   "source": [
    "## <a name=\"multiple variables\"></a>Explorer les interactions entre les variables"
   ]
  },
  {
   "cell_type": "markdown",
   "metadata": {},
   "source": [
    "### <a name=\"rank variables\"></a>Classer les variables en fonction des relations linéaires avec la variable de référence (sur les données échantillonnées)"
   ]
  },
  {
   "cell_type": "code",
   "execution_count": 57,
   "metadata": {
    "scrolled": false
   },
   "outputs": [
    {
     "data": {
      "application/vnd.jupyter.widget-view+json": {
       "model_id": "5d7c320b73a844f282f4445300fcc220",
       "version_major": 2,
       "version_minor": 0
      },
      "text/plain": [
       "interactive(children=(Dropdown(description='Ref Var:', options=('B4_manque_alim_4m', 'A1_A_cereales', 'A1_B_ra…"
      ]
     },
     "metadata": {},
     "output_type": "display_data"
    }
   ],
   "source": [
    "cols_list = [conf_dict['Target']] + conf_dict['NumericalColumns'] + conf_dict['CategoricalColumns'] #Make target the default reference variable\n",
    "cols_list = list(OrderedDict.fromkeys(cols_list)) #remove variables that might be duplicates with target\n",
    "w1 = widgets.Dropdown(    \n",
    "    options=cols_list,\n",
    "    value=cols_list[0],\n",
    "    description='Ref Var:'\n",
    ")\n",
    "w2 = ipywidgets.Text(value=\"5\", description='Top Num Vars:')\n",
    "w3 = ipywidgets.Text(value=\"5\", description='Top Cat Vars:')\n",
    "i = interactive(InteractionAnalytics.rank_associations, df=fixed(df), conf_dict=fixed(conf_dict), col1=w1, col2=w2, col3=w3)\n",
    "display(i)"
   ]
  },
  {
   "cell_type": "markdown",
   "metadata": {},
   "source": [
    "### <a name=\"two categorical\"></a>Explorer les interactions entre les variables qualitatives"
   ]
  },
  {
   "cell_type": "code",
   "execution_count": 59,
   "metadata": {},
   "outputs": [
    {
     "data": {
      "application/vnd.jupyter.widget-view+json": {
       "model_id": "30aed139f2f54b1e817b7959f2d3bdec",
       "version_major": 2,
       "version_minor": 0
      },
      "text/plain": [
       "interactive(children=(Dropdown(description='Var Qual 1:', options=('B4_manque_alim_4m', 'taille_famille_gp', '…"
      ]
     },
     "metadata": {},
     "output_type": "display_data"
    }
   ],
   "source": [
    "w1, w2, w3, w4 = None, None, None, None\n",
    "\n",
    "if conf_dict['Target'] in conf_dict['CategoricalColumns']:\n",
    "    cols_list = [conf_dict['Target']] + conf_dict['CategoricalColumns'] #Make target the default reference variable\n",
    "    cols_list = list(OrderedDict.fromkeys(cols_list)) #remove variables that might be duplicates with target\n",
    "else:\n",
    "    cols_list = conf_dict['CategoricalColumns']\n",
    "    \n",
    "w1 = widgets.Dropdown(\n",
    "    options=cols_list,\n",
    "    value=cols_list[0],\n",
    "    description='Var Qual 1:'\n",
    ")\n",
    "w2 = widgets.Dropdown(\n",
    "    options=cols_list,\n",
    "    value=cols_list[1],\n",
    "    description='Var Qual 2:'\n",
    ")\n",
    "i = interactive(InteractionAnalytics.categorical_relations, df=fixed(df), col1=w1, col2=w2)\n",
    "display(i)"
   ]
  },
  {
   "cell_type": "markdown",
   "metadata": {},
   "source": [
    "### <a name=\"two numerical\"></a>Explorer les interactions entre les variables quantitatives (sur les données échantillonnées)"
   ]
  },
  {
   "cell_type": "code",
   "execution_count": 60,
   "metadata": {},
   "outputs": [
    {
     "data": {
      "application/vnd.jupyter.widget-view+json": {
       "model_id": "9d159a72392c430a909f83d15a52d76b",
       "version_major": 2,
       "version_minor": 0
      },
      "text/plain": [
       "interactive(children=(Dropdown(description='Var quanti 1:', options=('A1_A_cereales', 'A1_B_racines', 'A1_C_no…"
      ]
     },
     "metadata": {},
     "output_type": "display_data"
    }
   ],
   "source": [
    "w1, w2, w3, w4 = None, None, None, None\n",
    "\n",
    "if conf_dict['Target'] in conf_dict['NumericalColumns']:\n",
    "    cols_list = [conf_dict['Target']] + conf_dict['NumericalColumns'] #Make target the default reference variable\n",
    "    cols_list = list(OrderedDict.fromkeys(cols_list)) #remove variables that might be duplicates with target\n",
    "else:\n",
    "    cols_list = conf_dict['NumericalColumns']\n",
    "w1 = widgets.Dropdown(\n",
    "    options=cols_list,\n",
    "    value=cols_list[0],\n",
    "    description='Var quanti 1:'\n",
    ")\n",
    "w2 = widgets.Dropdown(\n",
    "    options=cols_list,\n",
    "    value=cols_list[1],\n",
    "    description='Var quanti 2:'\n",
    ")\n",
    "i = interactive(InteractionAnalytics.numerical_relations, df=fixed(df), col1=w1, col2=w2)\n",
    "display(i)"
   ]
  },
  {
   "cell_type": "markdown",
   "metadata": {},
   "source": [
    "### Explorer la matrice de corrélation entre les variables quantitatives"
   ]
  },
  {
   "cell_type": "code",
   "execution_count": 61,
   "metadata": {
    "scrolled": false
   },
   "outputs": [
    {
     "data": {
      "application/vnd.jupyter.widget-view+json": {
       "model_id": "822e8267b8104621a702fb2f72e23773",
       "version_major": 2,
       "version_minor": 0
      },
      "text/plain": [
       "interactive(children=(Dropdown(description='Methode:', options=('pearson', 'kendall', 'spearman'), value='pear…"
      ]
     },
     "metadata": {},
     "output_type": "display_data"
    }
   ],
   "source": [
    "w1, w2, w3, w4 = None, None, None, None\n",
    "w1 = widgets.Dropdown(\n",
    "    options=['pearson','kendall','spearman'],\n",
    "    value='pearson',\n",
    "    description='Methode:'\n",
    ")\n",
    "i = interactive(InteractionAnalytics.numerical_correlation, df=fixed(df), conf_dict=fixed(conf_dict),\\\n",
    "                                         col1=w1)\n",
    "\n",
    "display(i)"
   ]
  },
  {
   "cell_type": "markdown",
   "metadata": {},
   "source": [
    "### <a name=\"numerical and categorical\"></a>Explorer les interactions entre les variables quantitative et qualitative"
   ]
  },
  {
   "cell_type": "code",
   "execution_count": 62,
   "metadata": {},
   "outputs": [
    {
     "data": {
      "application/vnd.jupyter.widget-view+json": {
       "model_id": "22b997ee81ed4a3582c39fd00f89e333",
       "version_major": 2,
       "version_minor": 0
      },
      "text/plain": [
       "interactive(children=(Dropdown(description='Quantitative:', options=('A1_A_cereales', 'A1_B_racines', 'A1_C_no…"
      ]
     },
     "metadata": {},
     "output_type": "display_data"
    }
   ],
   "source": [
    "w1, w2, w3, w4 = None, None, None, None\n",
    "\n",
    "if conf_dict['Target'] in conf_dict['NumericalColumns']:\n",
    "    cols_list = [conf_dict['Target']] + conf_dict['NumericalColumns'] #Make target the default reference variable\n",
    "    cols_list = list(OrderedDict.fromkeys(cols_list)) #remove variables that might be duplicates with target\n",
    "else:\n",
    "    cols_list = conf_dict['NumericalColumns']\n",
    "    \n",
    "w1 = widgets.Dropdown(\n",
    "    options=cols_list,\n",
    "    value=cols_list[0],\n",
    "    description='Quantitative:'\n",
    ")\n",
    "\n",
    "if conf_dict['Target'] in conf_dict['CategoricalColumns']:\n",
    "    cols_list = [conf_dict['Target']] + conf_dict['CategoricalColumns'] #Make target the default reference variable\n",
    "    cols_list = list(OrderedDict.fromkeys(cols_list)) #remove variables that might be duplicates with target\n",
    "else:\n",
    "    cols_list = conf_dict['CategoricalColumns']\n",
    "    \n",
    "w2 = widgets.Dropdown(\n",
    "    options=cols_list,\n",
    "    value=cols_list[0],\n",
    "    description='Qualitative:'\n",
    ")\n",
    "i = interactive(InteractionAnalytics.nc_relation, df=fixed(df), \\\n",
    "                                                conf_dict=fixed(conf_dict), col1=w1, col2=w2, \\\n",
    "                                                col3=fixed(w3))\n",
    "\n",
    "display(i)"
   ]
  },
  {
   "cell_type": "markdown",
   "metadata": {},
   "source": [
    "### <a name=\"two numerical and categorical\"></a>Explorer les interactions entre deux variables quantitatives et une variable qualitatives (sur des données échantillonnées)"
   ]
  },
  {
   "cell_type": "code",
   "execution_count": 63,
   "metadata": {},
   "outputs": [
    {
     "data": {
      "application/vnd.jupyter.widget-view+json": {
       "model_id": "44de4316844e42d6a091fca3a8ff91be",
       "version_major": 2,
       "version_minor": 0
      },
      "text/plain": [
       "interactive(children=(Dropdown(description='Var Qttv 1:', options=('A1_A_cereales', 'A1_B_racines', 'A1_C_noix…"
      ]
     },
     "metadata": {},
     "output_type": "display_data"
    }
   ],
   "source": [
    "w1, w2, w3, w4 = None, None, None, None\n",
    "\n",
    "if conf_dict['Target'] in conf_dict['NumericalColumns']:\n",
    "    cols_list = [conf_dict['Target']] + conf_dict['NumericalColumns'] #Make target the default reference variable\n",
    "    cols_list = list(OrderedDict.fromkeys(cols_list)) #remove variables that might be duplicates with target\n",
    "else:\n",
    "    cols_list = conf_dict['NumericalColumns']\n",
    "    \n",
    "w1 = widgets.Dropdown(\n",
    "    options = cols_list,\n",
    "    value = cols_list[0],\n",
    "    description = 'Var Qttv 1:'\n",
    ")\n",
    "w2 = widgets.Dropdown(\n",
    "    options = cols_list,\n",
    "    value = cols_list[1],\n",
    "    description = 'Var Qttv 2:'\n",
    ")\n",
    "\n",
    "if conf_dict['Target'] in conf_dict['CategoricalColumns']:\n",
    "    cols_list = [conf_dict['Target']] + conf_dict['CategoricalColumns'] #Make target the default reference variable\n",
    "    cols_list = list(OrderedDict.fromkeys(cols_list)) #remove variables that might be duplicates with target\n",
    "else:\n",
    "    cols_list = conf_dict['CategoricalColumns']\n",
    "    \n",
    "w3 = widgets.Dropdown(\n",
    "    options = cols_list,\n",
    "    value = cols_list[0],\n",
    "    description = 'Legend Cat Var:'\n",
    ")\n",
    "i = interactive(InteractionAnalytics.nnc_relation, df=fixed(df),conf_dict=fixed(conf_dict), col1=w1, col2=w2, col3=w3)\n",
    "display(i)"
   ]
  },
  {
   "cell_type": "markdown",
   "metadata": {},
   "source": [
    "## <a name=\"pca\"></a>Visualiser les données quantitatives par analyse en composantes principales (sur les données échantillonnées)"
   ]
  },
  {
   "cell_type": "markdown",
   "metadata": {},
   "source": [
    "### Projection 2D par ACP"
   ]
  },
  {
   "cell_type": "code",
   "execution_count": 64,
   "metadata": {},
   "outputs": [
    {
     "data": {
      "application/vnd.jupyter.widget-view+json": {
       "model_id": "e9f71e5ead3c477f83557971ffe703a2",
       "version_major": 2,
       "version_minor": 0
      },
      "text/plain": [
       "interactive(children=(Dropdown(description='Legend:', options=('B4_manque_alim_4m', 'taille_famille_gp', 'nive…"
      ]
     },
     "metadata": {},
     "output_type": "display_data"
    }
   ],
   "source": [
    "num_numeric = len(conf_dict['NumericalColumns'])\n",
    "if  num_numeric > 3:\n",
    "    w1, w2, w3, w4, w5 = None, None, None, None, None\n",
    "    if conf_dict['Target'] in conf_dict['CategoricalColumns']:\n",
    "        cols_list = [conf_dict['Target']] + conf_dict['CategoricalColumns'] #Make target the default reference variable\n",
    "        cols_list = list(OrderedDict.fromkeys(cols_list)) #remove variables that might be duplicates with target\n",
    "    else:\n",
    "        cols_list = conf_dict['CategoricalColumns']\n",
    "    w1 = widgets.Dropdown(\n",
    "        options = cols_list,\n",
    "        value = cols_list[0],\n",
    "        description = 'Legend:',\n",
    "        width = 10\n",
    "    )\n",
    "    w2 = widgets.Dropdown(\n",
    "        options = [str(x) for x in np.arange(1,num_numeric+1)],\n",
    "        value = '1',\n",
    "        width = 1,\n",
    "        description='PC at X-Axis:'\n",
    "    )\n",
    "    w3 = widgets.Dropdown(\n",
    "        options = [str(x) for x in np.arange(1,num_numeric+1)],\n",
    "        value = '2',\n",
    "        description = 'PC at Y-Axis:'\n",
    "    )\n",
    "    i = interactive(InteractionAnalytics.numerical_pca, df=fixed(df), conf_dict=fixed(conf_dict), col1=w1, col2=w2, col3=w3)\n",
    "\n",
    "    \n",
    "    display(i)"
   ]
  },
  {
   "cell_type": "markdown",
   "metadata": {},
   "source": [
    "### Projection 3D par ACP"
   ]
  },
  {
   "cell_type": "code",
   "execution_count": 65,
   "metadata": {},
   "outputs": [
    {
     "data": {
      "application/vnd.jupyter.widget-view+json": {
       "model_id": "f71f70b06ffe44969d0bf4b3eec113df",
       "version_major": 2,
       "version_minor": 0
      },
      "text/plain": [
       "interactive(children=(Dropdown(description='Legend:', options=('B4_manque_alim_4m', 'taille_famille_gp', 'nive…"
      ]
     },
     "metadata": {},
     "output_type": "display_data"
    }
   ],
   "source": [
    "if len(conf_dict['NumericalColumns']) > 3:\n",
    "    if conf_dict['Target'] in conf_dict['CategoricalColumns']:\n",
    "        cols_list = [conf_dict['Target']] + conf_dict['CategoricalColumns'] #Make target the default reference variable\n",
    "        cols_list = list(OrderedDict.fromkeys(cols_list)) #remove variables that might be duplicates with target\n",
    "    else:\n",
    "        cols_list = conf_dict['CategoricalColumns']\n",
    "    w1, w2, w3, w4 = None, None, None, None\n",
    "    w1 = widgets.Dropdown(\n",
    "        options=cols_list,\n",
    "        value=cols_list[0],\n",
    "        description='Legend:'\n",
    "    )\n",
    "    w2 = ipywidgets.IntSlider(min=-180, max=180, step=5, value=30, description='Angle')\n",
    "    i = interactive(InteractionAnalytics.pca_3d, df=fixed(df), conf_dict=fixed(conf_dict), col1=w1, col2=w2, col3=fixed(w3))\n",
    "    display(i)"
   ]
  },
  {
   "cell_type": "markdown",
   "metadata": {},
   "source": [
    "## <a name=\"show hide codes\"></a>Afficher/Cacher les codes sources"
   ]
  },
  {
   "cell_type": "code",
   "execution_count": 28,
   "metadata": {},
   "outputs": [
    {
     "data": {
      "text/html": [
       "<style>\n",
       "    .widget-label { min-width: 20ex !important; }\n",
       "    .widget-text { min-width: 60ex !important; }\n",
       "</style>"
      ],
      "text/plain": [
       "<IPython.core.display.HTML object>"
      ]
     },
     "metadata": {},
     "output_type": "display_data"
    },
    {
     "data": {
      "text/html": [
       "<script>\n",
       "code_show=true; \n",
       "function code_toggle() {\n",
       " if (code_show){\n",
       " $('div.input').hide();\n",
       "\n",
       " } else {\n",
       " $('div.input').show();\n",
       "\n",
       " }\n",
       " code_show = !code_show\n",
       "} \n",
       "//$( document ).ready(code_toggle);//commenting code disabling by default\n",
       "</script>\n",
       "<form action = \"javascript:code_toggle()\"><input type=\"submit\" value=\"Afficher/Cacher\"></form>"
      ],
      "text/plain": [
       "<IPython.core.display.HTML object>"
      ]
     },
     "execution_count": 28,
     "metadata": {},
     "output_type": "execute_result"
    }
   ],
   "source": [
    "display(HTML('''<style>\n",
    "    .widget-label { min-width: 20ex !important; }\n",
    "    .widget-text { min-width: 60ex !important; }\n",
    "</style>'''))\n",
    "\n",
    "#Toggle Code\n",
    "HTML('''<script>\n",
    "code_show=true; \n",
    "function code_toggle() {\n",
    " if (code_show){\n",
    " $('div.input').hide();\n",
    "\n",
    " } else {\n",
    " $('div.input').show();\n",
    "\n",
    " }\n",
    " code_show = !code_show\n",
    "} \n",
    "//$( document ).ready(code_toggle);//commenting code disabling by default\n",
    "</script>\n",
    "<form action = \"javascript:code_toggle()\"><input type=\"submit\" value=\"Afficher/Cacher\"></form>''')"
   ]
  },
  {
   "cell_type": "code",
   "execution_count": null,
   "metadata": {},
   "outputs": [],
   "source": []
  }
 ],
 "metadata": {
  "anaconda-cloud": {},
  "kernelspec": {
   "display_name": "Python 2",
   "language": "python",
   "name": "python2"
  },
  "language_info": {
   "codemirror_mode": {
    "name": "ipython",
    "version": 3
   },
   "file_extension": ".py",
   "mimetype": "text/x-python",
   "name": "python",
   "nbconvert_exporter": "python",
   "pygments_lexer": "ipython3",
   "version": "3.6.5"
  },
  "widgets": {
   "state": {
    "04e541dab2f94f7caa8357ba1cfc9be6": {
     "views": [
      {
       "cell_index": 36
      }
     ]
    },
    "18f3d017ad894e77a8c73e417ae58210": {
     "views": [
      {
       "cell_index": 27
      }
     ]
    },
    "208341904fc447d788dd2340a53cd4d2": {
     "views": [
      {
       "cell_index": 44
      }
     ]
    },
    "50ecba77c87044d9b4b85858c456d5d4": {
     "views": [
      {
       "cell_index": 42
      }
     ]
    },
    "65f26639b55c4c97ad375a07314da367": {
     "views": [
      {
       "cell_index": 51
      }
     ]
    },
    "6670e2ea30174fd585febc2496e72733": {
     "views": [
      {
       "cell_index": 47
      }
     ]
    },
    "6e41b06a02ea483088552da04690bcd4": {
     "views": [
      {
       "cell_index": 12
      }
     ]
    },
    "7c24f442e86d46edb2c47bf054c76cc2": {
     "views": [
      {
       "cell_index": 31
      }
     ]
    },
    "81839ba5bfcd4e3295c8612d43d00e8c": {
     "views": [
      {
       "cell_index": 29
      }
     ]
    },
    "db6f802c4b2d4c94a58e91565e1496f2": {
     "views": [
      {
       "cell_index": 40
      }
     ]
    },
    "dce2ea0b203c439e82ad12464e669912": {
     "views": [
      {
       "cell_index": 38
      }
     ]
    },
    "e37fec1bbb534f46b122e3fb18122752": {
     "views": [
      {
       "cell_index": 49
      }
     ]
    },
    "f4b28034998f4951b5f42167c178dbaa": {
     "views": [
      {
       "cell_index": 34
      }
     ]
    }
   },
   "version": "1.2.0"
  }
 },
 "nbformat": 4,
 "nbformat_minor": 2
}
