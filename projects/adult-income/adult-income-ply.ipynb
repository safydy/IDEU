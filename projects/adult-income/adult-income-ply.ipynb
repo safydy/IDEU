{
 "cells": [
  {
   "cell_type": "markdown",
   "metadata": {},
   "source": [
    "# Project \"Revenu des adults\" (Adult income)"
   ]
  },
  {
   "cell_type": "markdown",
   "metadata": {},
   "source": [
    "## <a name=\"setup\"></a> Configuration générale"
   ]
  },
  {
   "cell_type": "code",
   "execution_count": 1,
   "metadata": {},
   "outputs": [
    {
     "name": "stdout",
     "output_type": "stream",
     "text": [
      "Projet : /Volumes/Data/data_analysis/EILV/projects/adult-income\n"
     ]
    }
   ],
   "source": [
    "import os\n",
    "\n",
    "print ('Projet : %s' %os.getcwd())\n",
    "\n",
    "workingDir = '/Volumes/Data/data_analysis/EILV/'\n",
    "os.chdir(workingDir)\n",
    "\n",
    "projectDir = '%s/projects/adult-income/' %os.getcwd()"
   ]
  },
  {
   "cell_type": "code",
   "execution_count": 3,
   "metadata": {},
   "outputs": [
    {
     "name": "stdout",
     "output_type": "stream",
     "text": [
      "Fichier de configuration: /Volumes/Data/data_analysis/EILV/projects/adult-income/config-adult-income.yaml\n"
     ]
    }
   ],
   "source": [
    "import os\n",
    "# workingDir = '.'\n",
    "# os.chdir(workingDir)\n",
    "\n",
    "conf_file = '%sconfig-adult-income.yaml' %projectDir\n",
    "Sample_Size = 10000\n",
    "\n",
    "print ('Fichier de configuration: %s' %conf_file)\n"
   ]
  },
  {
   "cell_type": "markdown",
   "metadata": {},
   "source": [
    "### Importer les paquets nécessaires et configurer les paramètres de l'environnement"
   ]
  },
  {
   "cell_type": "code",
   "execution_count": 4,
   "metadata": {},
   "outputs": [
    {
     "data": {
      "text/html": [
       "<script>requirejs.config({paths: { 'plotly': ['https://cdn.plot.ly/plotly-latest.min']},});if(!window.Plotly) {{require(['plotly'],function(plotly) {window.Plotly=plotly;});}}</script>"
      ],
      "text/vnd.plotly.v1+html": [
       "<script>requirejs.config({paths: { 'plotly': ['https://cdn.plot.ly/plotly-latest.min']},});if(!window.Plotly) {{require(['plotly'],function(plotly) {window.Plotly=plotly;});}}</script>"
      ]
     },
     "metadata": {},
     "output_type": "display_data"
    },
    {
     "data": {
      "text/html": [
       "<script>requirejs.config({paths: { 'plotly': ['https://cdn.plot.ly/plotly-latest.min']},});if(!window.Plotly) {{require(['plotly'],function(plotly) {window.Plotly=plotly;});}}</script>"
      ],
      "text/vnd.plotly.v1+html": [
       "<script>requirejs.config({paths: { 'plotly': ['https://cdn.plot.ly/plotly-latest.min']},});if(!window.Plotly) {{require(['plotly'],function(plotly) {window.Plotly=plotly;});}}</script>"
      ]
     },
     "metadata": {},
     "output_type": "display_data"
    },
    {
     "name": "stdout",
     "output_type": "stream",
     "text": [
      "Importation finie !\n"
     ]
    }
   ],
   "source": [
    "import pandas as pd\n",
    "import numpy as np\n",
    "import os\n",
    "#os.chdir(workingDir)\n",
    "import collections\n",
    "import matplotlib\n",
    "import io\n",
    "import sys\n",
    "import operator\n",
    "\n",
    "import nbformat as nbf\n",
    "from IPython.core.display import HTML\n",
    "from IPython.display import display\n",
    "from ipywidgets import interact, interactive,fixed\n",
    "from IPython.display import Javascript, display,HTML\n",
    "from ipywidgets import widgets, VBox\n",
    "import ipywidgets\n",
    "import IPython\n",
    "from IPython.display import clear_output\n",
    "import scipy.stats as stats\n",
    "from statsmodels.graphics.mosaicplot import mosaic\n",
    "import statsmodels.api as sm\n",
    "from statsmodels.formula.api import ols\n",
    "import os\n",
    "import errno\n",
    "import seaborn as sns\n",
    "from string import Template\n",
    "from functools import partial\n",
    "from collections import OrderedDict\n",
    "\n",
    "# Utility Classes\n",
    "from utilities.ConfUtility import * \n",
    "from utilities.ReportGeneration import *\n",
    "from utilities.UniVarAnalytics import *\n",
    "from utilities.MultiVarAnalytics import *\n",
    "\n",
    "%matplotlib inline\n",
    "\n",
    "# Plotly\n",
    "import plotly.offline as py\n",
    "from plotly import tools as tls\n",
    "py.init_notebook_mode(connected=True) #initiate the Plotly Notebook mode\n",
    "\n",
    "#DEBUG=0\n",
    "\n",
    "font={'family':'normal','weight':'normal','size':8}\n",
    "matplotlib.rc('font',**font)\n",
    "matplotlib.rcParams['figure.figsize'] = (12.0, 5.0)\n",
    "matplotlib.rc('xtick', labelsize=9) \n",
    "matplotlib.rc('ytick', labelsize=9)\n",
    "matplotlib.rc('axes', labelsize=10)\n",
    "matplotlib.rc('axes', titlesize=10)\n",
    "sns.set_style('whitegrid')\n",
    "\n",
    "print ('Importation finie !')"
   ]
  },
  {
   "cell_type": "markdown",
   "metadata": {},
   "source": [
    "## <a name=\"read and summarize\"></a> Lecture récapitulative des données"
   ]
  },
  {
   "cell_type": "markdown",
   "metadata": {},
   "source": [
    "### Lire les données et déduire les types de colonnes"
   ]
  },
  {
   "cell_type": "code",
   "execution_count": 5,
   "metadata": {},
   "outputs": [
    {
     "data": {
      "text/html": [
       "<ul><li>Les variables quantitatives sont age, \n",
       "fnlwgt, \n",
       "educationnum, \n",
       "capitalgain, \n",
       "capitalloss, \n",
       "hoursperweek</li><li>Les variables qualitatives sont workclass, \n",
       "sex, \n",
       "relationship, \n",
       "race, \n",
       "occupation, \n",
       "nativecountry, \n",
       "maritalstatus, \n",
       "label_IsOver50K, \n",
       "education</li><li>La cible est label_IsOver50K</li></ul>"
      ],
      "text/plain": [
       "<IPython.core.display.HTML object>"
      ]
     },
     "execution_count": 5,
     "metadata": {},
     "output_type": "execute_result"
    }
   ],
   "source": [
    "conf_dict = ConfUtility.parse_yaml(conf_file)\n",
    "\n",
    "# Read in data from local file or SQL server\n",
    "if 'DataSource' not in conf_dict:\n",
    "    df=pd.read_csv('%s%s' %(projectDir,conf_dict['DataFilePath'][0]), skipinitialspace=True)\n",
    "else:\n",
    "    import pyodbc\n",
    "    cnxn = pyodbc.connect('driver=MySQL ODBC 3.51 Driver;server={};database={};Uid={};Pwd={}'.format(\n",
    "            conf_dict['Server'], conf_dict['Database'],conf_dict['Username'],conf_dict['Password']))\n",
    "    df = pd.read_sql(conf_dict['Query'],cnxn)\n",
    "\n",
    "# Making sure that we are not reading any extra column\n",
    "df = df[[each for each in df.columns if 'Unnamed' not in each]]\n",
    "\n",
    "# Sampling Data if data size is larger than 10k\n",
    "df0 = df # df0 is the unsampled data. Will be used in data exploration and analysis where sampling is not needed\n",
    "         # However, keep in mind that your final report will always be based on the sampled data. \n",
    "if Sample_Size < df.shape[0]:\n",
    "    df = df.sample(Sample_Size)\n",
    "\n",
    "# change float data types\n",
    "if 'FloatDataTypes' in conf_dict:   \n",
    "    for col_name in conf_dict['FloatDataTypes']:\n",
    "        df[col_name] = df[col_name].astype(float)      \n",
    "        \n",
    "# Getting the list of categorical columns if it was not there in the yaml file\n",
    "if 'CategoricalColumns' not in conf_dict:\n",
    "    conf_dict['CategoricalColumns'] = list(set(list(df.select_dtypes(exclude=[np.number]).columns)))\n",
    "\n",
    "# Getting the list of numerical columns if it was not there in the yaml file\n",
    "if 'NumericalColumns' not in conf_dict:\n",
    "    conf_dict['NumericalColumns'] = list(df.select_dtypes(include=[np.number]).columns)    \n",
    "\n",
    "# Exclude columns that we do not need\n",
    "if 'ColumnsToExclude' in conf_dict:\n",
    "    conf_dict['CategoricalColumns'] = list(set(conf_dict['CategoricalColumns'])-set(conf_dict['ColumnsToExclude']))\n",
    "    conf_dict['NumericalColumns'] = list(set(conf_dict['NumericalColumns'])-set(conf_dict['ColumnsToExclude']))\n",
    "\n",
    "# Ordering the categorical variables according to the number of unique categories\n",
    "filtered_cat_columns = []\n",
    "temp_dict = {}\n",
    "for cat_var in conf_dict['CategoricalColumns']:\n",
    "    temp_dict[cat_var] = len(np.unique(df[cat_var]))\n",
    "sorted_x = sorted(temp_dict.items(), key=operator.itemgetter(0), reverse=True)\n",
    "conf_dict['CategoricalColumns'] = [x for (x,y) in sorted_x]\n",
    "\n",
    "ConfUtility.dict_to_htmllist(conf_dict,['Target','CategoricalColumns','NumericalColumns'])"
   ]
  },
  {
   "cell_type": "markdown",
   "metadata": {},
   "source": [
    "### Lister les n-premières lignes (par défault, n=5)"
   ]
  },
  {
   "cell_type": "code",
   "execution_count": 7,
   "metadata": {},
   "outputs": [
    {
     "data": {
      "application/vnd.jupyter.widget-view+json": {
       "model_id": "4945ed62087e4c5f98785b0ccc121823",
       "version_major": 2,
       "version_minor": 0
      },
      "text/plain": [
       "interactive(children=(IntSlider(value=5, description='Nombre de ligne', max=1000), Output()), _dom_classes=('w…"
      ]
     },
     "metadata": {},
     "output_type": "display_data"
    }
   ],
   "source": [
    "def custom_head(df,NoOfRows):\n",
    "    return HTML(df.head(NoOfRows).style.set_table_attributes(\"class='table'\").render())\n",
    "i = interact(custom_head,df=fixed(df0), NoOfRows=ipywidgets.IntSlider(min=0, max=1000, step=1, \\\n",
    "                                                                     value=5, description='Nombre de ligne'))"
   ]
  },
  {
   "cell_type": "markdown",
   "metadata": {},
   "source": [
    "### Afficher les dimensions des données (lignes, colonnes)"
   ]
  },
  {
   "cell_type": "code",
   "execution_count": 8,
   "metadata": {
    "scrolled": false
   },
   "outputs": [
    {
     "name": "stdout",
     "output_type": "stream",
     "text": [
      "32561 lignes | 15 colonnes\n"
     ]
    }
   ],
   "source": [
    "print ('{} lignes | {} colonnes'.format(df0.shape[0],df0.shape[1]))"
   ]
  },
  {
   "cell_type": "markdown",
   "metadata": {},
   "source": [
    "### Imprimer les noms des variables (colonnes)"
   ]
  },
  {
   "cell_type": "code",
   "execution_count": 9,
   "metadata": {
    "scrolled": true
   },
   "outputs": [
    {
     "name": "stdout",
     "output_type": "stream",
     "text": [
      "Les variables sont :age,workclass,fnlwgt,education,educationnum,maritalstatus,occupation,relationship,race,sex,capitalgain,capitalloss,hoursperweek,nativecountry,label_IsOver50K\n"
     ]
    }
   ],
   "source": [
    "col_names = ','.join(each for each in list(df.columns))\n",
    "print(\"Les variables sont :\" + col_names)"
   ]
  },
  {
   "cell_type": "markdown",
   "metadata": {},
   "source": [
    "### Afficher les types de colonnes"
   ]
  },
  {
   "cell_type": "code",
   "execution_count": 10,
   "metadata": {
    "scrolled": false
   },
   "outputs": [
    {
     "name": "stdout",
     "output_type": "stream",
     "text": [
      "Types des variables:\n"
     ]
    },
    {
     "data": {
      "text/plain": [
       "age                 int64\n",
       "workclass          object\n",
       "fnlwgt              int64\n",
       "education          object\n",
       "educationnum        int64\n",
       "maritalstatus      object\n",
       "occupation         object\n",
       "relationship       object\n",
       "race               object\n",
       "sex                object\n",
       "capitalgain         int64\n",
       "capitalloss         int64\n",
       "hoursperweek        int64\n",
       "nativecountry      object\n",
       "label_IsOver50K     int64\n",
       "dtype: object"
      ]
     },
     "execution_count": 10,
     "metadata": {},
     "output_type": "execute_result"
    }
   ],
   "source": [
    "print(\"Types des variables:\")\n",
    "df.dtypes"
   ]
  },
  {
   "cell_type": "markdown",
   "metadata": {},
   "source": [
    "## <a name=\"individual variable\"></a>Extraire les statistiques descriptives de chaque colonne"
   ]
  },
  {
   "cell_type": "code",
   "execution_count": 11,
   "metadata": {},
   "outputs": [],
   "source": [
    "def num_missing(x):\n",
    "    return len(x.index)-x.count()\n",
    "\n",
    "def num_unique(x):\n",
    "    return len(np.unique(x))\n",
    "\n",
    "temp_df = df0.describe().T\n",
    "missing_df = pd.DataFrame(df0.apply(num_missing, axis=0)) \n",
    "missing_df.columns = ['données manquantes']\n",
    "unq_df = pd.DataFrame(df0.apply(num_unique, axis=0))\n",
    "unq_df.columns = ['unique']\n",
    "types_df = pd.DataFrame(df0.dtypes)\n",
    "types_df.columns = ['Type de données']"
   ]
  },
  {
   "cell_type": "markdown",
   "metadata": {},
   "source": [
    "### Afficher les statistiques descriptives des variables quantitatives"
   ]
  },
  {
   "cell_type": "code",
   "execution_count": 12,
   "metadata": {},
   "outputs": [
    {
     "data": {
      "text/html": [
       "<div>\n",
       "<style scoped>\n",
       "    .dataframe tbody tr th:only-of-type {\n",
       "        vertical-align: middle;\n",
       "    }\n",
       "\n",
       "    .dataframe tbody tr th {\n",
       "        vertical-align: top;\n",
       "    }\n",
       "\n",
       "    .dataframe thead th {\n",
       "        text-align: right;\n",
       "    }\n",
       "</style>\n",
       "<table border=\"1\" class=\"dataframe\">\n",
       "  <thead>\n",
       "    <tr style=\"text-align: right;\">\n",
       "      <th></th>\n",
       "      <th>count</th>\n",
       "      <th>mean</th>\n",
       "      <th>std</th>\n",
       "      <th>min</th>\n",
       "      <th>25%</th>\n",
       "      <th>50%</th>\n",
       "      <th>75%</th>\n",
       "      <th>max</th>\n",
       "      <th>données manquantes</th>\n",
       "      <th>unique</th>\n",
       "      <th>Type de données</th>\n",
       "    </tr>\n",
       "  </thead>\n",
       "  <tbody>\n",
       "    <tr>\n",
       "      <th>age</th>\n",
       "      <td>32561.0</td>\n",
       "      <td>38.581647</td>\n",
       "      <td>13.640433</td>\n",
       "      <td>17.0</td>\n",
       "      <td>28.0</td>\n",
       "      <td>37.0</td>\n",
       "      <td>48.0</td>\n",
       "      <td>90.0</td>\n",
       "      <td>0</td>\n",
       "      <td>73</td>\n",
       "      <td>int64</td>\n",
       "    </tr>\n",
       "    <tr>\n",
       "      <th>fnlwgt</th>\n",
       "      <td>32561.0</td>\n",
       "      <td>189778.366512</td>\n",
       "      <td>105549.977697</td>\n",
       "      <td>12285.0</td>\n",
       "      <td>117827.0</td>\n",
       "      <td>178356.0</td>\n",
       "      <td>237051.0</td>\n",
       "      <td>1484705.0</td>\n",
       "      <td>0</td>\n",
       "      <td>21648</td>\n",
       "      <td>int64</td>\n",
       "    </tr>\n",
       "    <tr>\n",
       "      <th>educationnum</th>\n",
       "      <td>32561.0</td>\n",
       "      <td>10.080679</td>\n",
       "      <td>2.572720</td>\n",
       "      <td>1.0</td>\n",
       "      <td>9.0</td>\n",
       "      <td>10.0</td>\n",
       "      <td>12.0</td>\n",
       "      <td>16.0</td>\n",
       "      <td>0</td>\n",
       "      <td>16</td>\n",
       "      <td>int64</td>\n",
       "    </tr>\n",
       "    <tr>\n",
       "      <th>capitalgain</th>\n",
       "      <td>32561.0</td>\n",
       "      <td>1077.648844</td>\n",
       "      <td>7385.292085</td>\n",
       "      <td>0.0</td>\n",
       "      <td>0.0</td>\n",
       "      <td>0.0</td>\n",
       "      <td>0.0</td>\n",
       "      <td>99999.0</td>\n",
       "      <td>0</td>\n",
       "      <td>119</td>\n",
       "      <td>int64</td>\n",
       "    </tr>\n",
       "    <tr>\n",
       "      <th>capitalloss</th>\n",
       "      <td>32561.0</td>\n",
       "      <td>87.303830</td>\n",
       "      <td>402.960219</td>\n",
       "      <td>0.0</td>\n",
       "      <td>0.0</td>\n",
       "      <td>0.0</td>\n",
       "      <td>0.0</td>\n",
       "      <td>4356.0</td>\n",
       "      <td>0</td>\n",
       "      <td>92</td>\n",
       "      <td>int64</td>\n",
       "    </tr>\n",
       "    <tr>\n",
       "      <th>hoursperweek</th>\n",
       "      <td>32561.0</td>\n",
       "      <td>40.437456</td>\n",
       "      <td>12.347429</td>\n",
       "      <td>1.0</td>\n",
       "      <td>40.0</td>\n",
       "      <td>40.0</td>\n",
       "      <td>45.0</td>\n",
       "      <td>99.0</td>\n",
       "      <td>0</td>\n",
       "      <td>94</td>\n",
       "      <td>int64</td>\n",
       "    </tr>\n",
       "    <tr>\n",
       "      <th>label_IsOver50K</th>\n",
       "      <td>32561.0</td>\n",
       "      <td>0.240810</td>\n",
       "      <td>0.427581</td>\n",
       "      <td>0.0</td>\n",
       "      <td>0.0</td>\n",
       "      <td>0.0</td>\n",
       "      <td>0.0</td>\n",
       "      <td>1.0</td>\n",
       "      <td>0</td>\n",
       "      <td>2</td>\n",
       "      <td>int64</td>\n",
       "    </tr>\n",
       "  </tbody>\n",
       "</table>\n",
       "</div>"
      ],
      "text/plain": [
       "                   count           mean            std      min       25%  \\\n",
       "age              32561.0      38.581647      13.640433     17.0      28.0   \n",
       "fnlwgt           32561.0  189778.366512  105549.977697  12285.0  117827.0   \n",
       "educationnum     32561.0      10.080679       2.572720      1.0       9.0   \n",
       "capitalgain      32561.0    1077.648844    7385.292085      0.0       0.0   \n",
       "capitalloss      32561.0      87.303830     402.960219      0.0       0.0   \n",
       "hoursperweek     32561.0      40.437456      12.347429      1.0      40.0   \n",
       "label_IsOver50K  32561.0       0.240810       0.427581      0.0       0.0   \n",
       "\n",
       "                      50%       75%        max  données manquantes  unique  \\\n",
       "age                  37.0      48.0       90.0                   0      73   \n",
       "fnlwgt           178356.0  237051.0  1484705.0                   0   21648   \n",
       "educationnum         10.0      12.0       16.0                   0      16   \n",
       "capitalgain           0.0       0.0    99999.0                   0     119   \n",
       "capitalloss           0.0       0.0     4356.0                   0      92   \n",
       "hoursperweek         40.0      45.0       99.0                   0      94   \n",
       "label_IsOver50K       0.0       0.0        1.0                   0       2   \n",
       "\n",
       "                Type de données  \n",
       "age                       int64  \n",
       "fnlwgt                    int64  \n",
       "educationnum              int64  \n",
       "capitalgain               int64  \n",
       "capitalloss               int64  \n",
       "hoursperweek              int64  \n",
       "label_IsOver50K           int64  "
      ]
     },
     "execution_count": 12,
     "metadata": {},
     "output_type": "execute_result"
    }
   ],
   "source": [
    "summary_df = temp_df.join(missing_df).join(unq_df).join(types_df)\n",
    "summary_df"
   ]
  },
  {
   "cell_type": "markdown",
   "metadata": {},
   "source": [
    "### Afficher les statistiques descriptives des variables qualitatives"
   ]
  },
  {
   "cell_type": "code",
   "execution_count": 13,
   "metadata": {},
   "outputs": [
    {
     "data": {
      "text/html": [
       "<div>\n",
       "<style scoped>\n",
       "    .dataframe tbody tr th:only-of-type {\n",
       "        vertical-align: middle;\n",
       "    }\n",
       "\n",
       "    .dataframe tbody tr th {\n",
       "        vertical-align: top;\n",
       "    }\n",
       "\n",
       "    .dataframe thead th {\n",
       "        text-align: right;\n",
       "    }\n",
       "</style>\n",
       "<table border=\"1\" class=\"dataframe\">\n",
       "  <thead>\n",
       "    <tr style=\"text-align: right;\">\n",
       "      <th></th>\n",
       "      <th>données manquantes</th>\n",
       "      <th>unique</th>\n",
       "      <th>Type de données</th>\n",
       "    </tr>\n",
       "  </thead>\n",
       "  <tbody>\n",
       "    <tr>\n",
       "      <th>workclass</th>\n",
       "      <td>0</td>\n",
       "      <td>9</td>\n",
       "      <td>object</td>\n",
       "    </tr>\n",
       "    <tr>\n",
       "      <th>education</th>\n",
       "      <td>0</td>\n",
       "      <td>16</td>\n",
       "      <td>object</td>\n",
       "    </tr>\n",
       "    <tr>\n",
       "      <th>maritalstatus</th>\n",
       "      <td>0</td>\n",
       "      <td>7</td>\n",
       "      <td>object</td>\n",
       "    </tr>\n",
       "    <tr>\n",
       "      <th>occupation</th>\n",
       "      <td>0</td>\n",
       "      <td>15</td>\n",
       "      <td>object</td>\n",
       "    </tr>\n",
       "    <tr>\n",
       "      <th>relationship</th>\n",
       "      <td>0</td>\n",
       "      <td>6</td>\n",
       "      <td>object</td>\n",
       "    </tr>\n",
       "    <tr>\n",
       "      <th>race</th>\n",
       "      <td>0</td>\n",
       "      <td>5</td>\n",
       "      <td>object</td>\n",
       "    </tr>\n",
       "    <tr>\n",
       "      <th>sex</th>\n",
       "      <td>0</td>\n",
       "      <td>2</td>\n",
       "      <td>object</td>\n",
       "    </tr>\n",
       "    <tr>\n",
       "      <th>nativecountry</th>\n",
       "      <td>0</td>\n",
       "      <td>42</td>\n",
       "      <td>object</td>\n",
       "    </tr>\n",
       "    <tr>\n",
       "      <th>label_IsOver50K</th>\n",
       "      <td>0</td>\n",
       "      <td>2</td>\n",
       "      <td>int64</td>\n",
       "    </tr>\n",
       "  </tbody>\n",
       "</table>\n",
       "</div>"
      ],
      "text/plain": [
       "                 données manquantes  unique Type de données\n",
       "workclass                         0       9          object\n",
       "education                         0      16          object\n",
       "maritalstatus                     0       7          object\n",
       "occupation                        0      15          object\n",
       "relationship                      0       6          object\n",
       "race                              0       5          object\n",
       "sex                               0       2          object\n",
       "nativecountry                     0      42          object\n",
       "label_IsOver50K                   0       2           int64"
      ]
     },
     "execution_count": 13,
     "metadata": {},
     "output_type": "execute_result"
    }
   ],
   "source": [
    "col_names = list(types_df.index) #Get all col names\n",
    "num_cols = len(col_names)\n",
    "index = range(num_cols)\n",
    "cat_index = []\n",
    "for i in index: #Find the indices of columns in Categorical columns\n",
    "    if col_names[i] in conf_dict['CategoricalColumns']:\n",
    "        cat_index.append(i)\n",
    "summary_df_cat = missing_df.join(unq_df).join(types_df.iloc[cat_index], how='inner') #Only summarize categorical columns\n",
    "summary_df_cat"
   ]
  },
  {
   "cell_type": "markdown",
   "metadata": {},
   "source": [
    "## <a name=\"individual variables\"></a>Explorer des variables individuelles"
   ]
  },
  {
   "cell_type": "markdown",
   "metadata": {},
   "source": [
    "### Explorer la variable cible"
   ]
  },
  {
   "cell_type": "code",
   "execution_count": 14,
   "metadata": {
    "scrolled": true
   },
   "outputs": [
    {
     "data": {
      "application/vnd.jupyter.widget-view+json": {
       "model_id": "ac51026ae4b94d029b3e8f99a8e1000d",
       "version_major": 2,
       "version_minor": 0
      },
      "text/plain": [
       "interactive(children=(Dropdown(description='Variable cible:', options=('label_IsOver50K',), value='label_IsOve…"
      ]
     },
     "metadata": {},
     "output_type": "display_data"
    }
   ],
   "source": [
    "w1_value,w2_value,w3_value = '','',''\n",
    "w1, w2, w3, w4 = None, None, None, None\n",
    "w1 = widgets.Dropdown(\n",
    "        options=[conf_dict['Target']],\n",
    "        value=conf_dict['Target'],\n",
    "        description='Variable cible:',\n",
    "    )\n",
    "\n",
    "if conf_dict['Target'] in conf_dict['CategoricalColumns']: \n",
    "    i = interactive(TargetAnalytics.custom_barplot, df=fixed(df), col1=w1)\n",
    "else:\n",
    "    i = interactive(NumericAnalytics.custom_barplot, df=fixed(df), col1=w1)\n",
    "display(i)"
   ]
  },
  {
   "cell_type": "markdown",
   "metadata": {},
   "source": [
    "### Explorer des variables numériques individuelles et tester la normalité (sur des données échantillonnées)"
   ]
  },
  {
   "cell_type": "code",
   "execution_count": 15,
   "metadata": {
    "scrolled": false
   },
   "outputs": [
    {
     "data": {
      "application/vnd.jupyter.widget-view+json": {
       "model_id": "16b71a852ba1476baa986ee555d9feea",
       "version_major": 2,
       "version_minor": 0
      },
      "text/plain": [
       "interactive(children=(Dropdown(description='Numeric Variable:', options=('age', 'fnlwgt', 'educationnum', 'cap…"
      ]
     },
     "metadata": {},
     "output_type": "display_data"
    }
   ],
   "source": [
    "w1_value, w2_value, w3_value = '', '', ''\n",
    "w1, w2, w3, w4 = None, None, None, None\n",
    "w1 = widgets.Dropdown(\n",
    "        options=conf_dict['NumericalColumns'],\n",
    "        value=conf_dict['NumericalColumns'][0],\n",
    "        description='Numeric Variable:',\n",
    "    )\n",
    "\n",
    "i = interactive(NumericAnalytics.custom_barplot, df=fixed(df), col1=w1)\n",
    "display(i)"
   ]
  },
  {
   "cell_type": "markdown",
   "metadata": {},
   "source": [
    "### Explorer des variables qualitatives individuelles (triées par fréquences)"
   ]
  },
  {
   "cell_type": "code",
   "execution_count": 16,
   "metadata": {
    "scrolled": false
   },
   "outputs": [
    {
     "data": {
      "application/vnd.jupyter.widget-view+json": {
       "model_id": "a00ab3ca1e604b92ae82e144d37c3dc5",
       "version_major": 2,
       "version_minor": 0
      },
      "text/plain": [
       "interactive(children=(Dropdown(description='Categorical Variable:', options=('workclass', 'sex', 'relationship…"
      ]
     },
     "metadata": {},
     "output_type": "display_data"
    }
   ],
   "source": [
    "w1_value, w2_value, w3_value = '', '', ''\n",
    "w1, w2, w3, w4 = None, None, None, None\n",
    "w1 = widgets.Dropdown(\n",
    "    options = conf_dict['CategoricalColumns'],\n",
    "    value = conf_dict['CategoricalColumns'][0],\n",
    "    description = 'Categorical Variable:',\n",
    ")\n",
    "# w1.observe (handle_change,'value')\n",
    "i = interactive(CategoricAnalytics.custom_barplot, df=fixed(df), col1=w1)\n",
    "\n",
    "display(i)"
   ]
  },
  {
   "cell_type": "markdown",
   "metadata": {},
   "source": [
    "## <a name=\"multiple variables\"></a>Explorer les interactions entre les variables"
   ]
  },
  {
   "cell_type": "markdown",
   "metadata": {},
   "source": [
    "### <a name=\"rank variables\"></a>Classer les variables en fonction des relations linéaires avec la variable de référence (sur les données échantillonnées)"
   ]
  },
  {
   "cell_type": "code",
   "execution_count": 17,
   "metadata": {
    "scrolled": false
   },
   "outputs": [
    {
     "data": {
      "application/vnd.jupyter.widget-view+json": {
       "model_id": "91602acab0784c328a6f4649a7735561",
       "version_major": 2,
       "version_minor": 0
      },
      "text/plain": [
       "interactive(children=(Dropdown(description='Ref Var:', options=('label_IsOver50K', 'age', 'fnlwgt', 'education…"
      ]
     },
     "metadata": {},
     "output_type": "display_data"
    }
   ],
   "source": [
    "cols_list = [conf_dict['Target']] + conf_dict['NumericalColumns'] + conf_dict['CategoricalColumns'] #Make target the default reference variable\n",
    "cols_list = list(OrderedDict.fromkeys(cols_list)) #remove variables that might be duplicates with target\n",
    "w1 = widgets.Dropdown(    \n",
    "    options=cols_list,\n",
    "    value=cols_list[0],\n",
    "    description='Ref Var:'\n",
    ")\n",
    "w2 = ipywidgets.Text(value=\"5\", description='Top Num Vars:')\n",
    "w3 = ipywidgets.Text(value=\"5\", description='Top Cat Vars:')\n",
    "i = interactive(InteractionAnalytics.rank_associations, df=fixed(df), conf_dict=fixed(conf_dict), col1=w1, col2=w2, col3=w3)\n",
    "display(i)"
   ]
  },
  {
   "cell_type": "markdown",
   "metadata": {},
   "source": [
    "### <a name=\"two categorical\"></a>Explorer les interactions entre les variables qualitatives"
   ]
  },
  {
   "cell_type": "code",
   "execution_count": 18,
   "metadata": {},
   "outputs": [
    {
     "data": {
      "application/vnd.jupyter.widget-view+json": {
       "model_id": "412efa356f934f2cb000958a141889df",
       "version_major": 2,
       "version_minor": 0
      },
      "text/plain": [
       "interactive(children=(Dropdown(description='Var Qual 1:', options=('label_IsOver50K', 'workclass', 'sex', 'rel…"
      ]
     },
     "metadata": {},
     "output_type": "display_data"
    }
   ],
   "source": [
    "w1, w2, w3, w4 = None, None, None, None\n",
    "\n",
    "if conf_dict['Target'] in conf_dict['CategoricalColumns']:\n",
    "    cols_list = [conf_dict['Target']] + conf_dict['CategoricalColumns'] #Make target the default reference variable\n",
    "    cols_list = list(OrderedDict.fromkeys(cols_list)) #remove variables that might be duplicates with target\n",
    "else:\n",
    "    cols_list = conf_dict['CategoricalColumns']\n",
    "    \n",
    "w1 = widgets.Dropdown(\n",
    "    options=cols_list,\n",
    "    value=cols_list[0],\n",
    "    description='Var Qual 1:'\n",
    ")\n",
    "w2 = widgets.Dropdown(\n",
    "    options=cols_list,\n",
    "    value=cols_list[1],\n",
    "    description='Var Qual 2:'\n",
    ")\n",
    "i = interactive(InteractionAnalytics.categorical_relations, df=fixed(df), col1=w1, col2=w2)\n",
    "display(i)"
   ]
  },
  {
   "cell_type": "markdown",
   "metadata": {},
   "source": [
    "### <a name=\"two numerical\"></a>Explorer les interactions entre les variables quantitatives (sur les données échantillonnées)"
   ]
  },
  {
   "cell_type": "code",
   "execution_count": 19,
   "metadata": {},
   "outputs": [
    {
     "data": {
      "application/vnd.jupyter.widget-view+json": {
       "model_id": "776aa19c1af947e293c141b21865cbe3",
       "version_major": 2,
       "version_minor": 0
      },
      "text/plain": [
       "interactive(children=(Dropdown(description='Var quanti 1:', options=('age', 'fnlwgt', 'educationnum', 'capital…"
      ]
     },
     "metadata": {},
     "output_type": "display_data"
    }
   ],
   "source": [
    "w1, w2, w3, w4 = None, None, None, None\n",
    "\n",
    "if conf_dict['Target'] in conf_dict['NumericalColumns']:\n",
    "    cols_list = [conf_dict['Target']] + conf_dict['NumericalColumns'] #Make target the default reference variable\n",
    "    cols_list = list(OrderedDict.fromkeys(cols_list)) #remove variables that might be duplicates with target\n",
    "else:\n",
    "    cols_list = conf_dict['NumericalColumns']\n",
    "w1 = widgets.Dropdown(\n",
    "    options=cols_list,\n",
    "    value=cols_list[0],\n",
    "    description='Var quanti 1:'\n",
    ")\n",
    "w2 = widgets.Dropdown(\n",
    "    options=cols_list,\n",
    "    value=cols_list[1],\n",
    "    description='Var quanti 2:'\n",
    ")\n",
    "i = interactive(InteractionAnalytics.numerical_relations, df=fixed(df), col1=w1, col2=w2)\n",
    "display(i)"
   ]
  },
  {
   "cell_type": "markdown",
   "metadata": {},
   "source": [
    "### Explorer la matrice de corrélation entre les variables quantitatives"
   ]
  },
  {
   "cell_type": "code",
   "execution_count": 20,
   "metadata": {
    "scrolled": false
   },
   "outputs": [
    {
     "data": {
      "application/vnd.jupyter.widget-view+json": {
       "model_id": "19915d3e8f254775a8ed54bb80edb0e8",
       "version_major": 2,
       "version_minor": 0
      },
      "text/plain": [
       "interactive(children=(Dropdown(description='Methode:', options=('pearson', 'kendall', 'spearman'), value='pear…"
      ]
     },
     "metadata": {},
     "output_type": "display_data"
    }
   ],
   "source": [
    "w1, w2, w3, w4 = None, None, None, None\n",
    "w1 = widgets.Dropdown(\n",
    "    options=['pearson','kendall','spearman'],\n",
    "    value='pearson',\n",
    "    description='Methode:'\n",
    ")\n",
    "i = interactive(InteractionAnalytics.numerical_correlation, df=fixed(df), conf_dict=fixed(conf_dict),\\\n",
    "                                         col1=w1)\n",
    "\n",
    "display(i)"
   ]
  },
  {
   "cell_type": "markdown",
   "metadata": {},
   "source": [
    "### <a name=\"numerical and categorical\"></a>Explorer les interactions entre les variables quantitative et qualitative"
   ]
  },
  {
   "cell_type": "code",
   "execution_count": 21,
   "metadata": {},
   "outputs": [
    {
     "data": {
      "application/vnd.jupyter.widget-view+json": {
       "model_id": "04c030a139bd4824adf14a322c835585",
       "version_major": 2,
       "version_minor": 0
      },
      "text/plain": [
       "interactive(children=(Dropdown(description='Quantitative:', options=('age', 'fnlwgt', 'educationnum', 'capital…"
      ]
     },
     "metadata": {},
     "output_type": "display_data"
    }
   ],
   "source": [
    "w1, w2, w3, w4 = None, None, None, None\n",
    "\n",
    "if conf_dict['Target'] in conf_dict['NumericalColumns']:\n",
    "    cols_list = [conf_dict['Target']] + conf_dict['NumericalColumns'] #Make target the default reference variable\n",
    "    cols_list = list(OrderedDict.fromkeys(cols_list)) #remove variables that might be duplicates with target\n",
    "else:\n",
    "    cols_list = conf_dict['NumericalColumns']\n",
    "    \n",
    "w1 = widgets.Dropdown(\n",
    "    options=cols_list,\n",
    "    value=cols_list[0],\n",
    "    description='Quantitative:'\n",
    ")\n",
    "\n",
    "if conf_dict['Target'] in conf_dict['CategoricalColumns']:\n",
    "    cols_list = [conf_dict['Target']] + conf_dict['CategoricalColumns'] #Make target the default reference variable\n",
    "    cols_list = list(OrderedDict.fromkeys(cols_list)) #remove variables that might be duplicates with target\n",
    "else:\n",
    "    cols_list = conf_dict['CategoricalColumns']\n",
    "    \n",
    "w2 = widgets.Dropdown(\n",
    "    options=cols_list,\n",
    "    value=cols_list[0],\n",
    "    description='Qualitative:'\n",
    ")\n",
    "i = interactive(InteractionAnalytics.nc_relation, df=fixed(df), \\\n",
    "                                                conf_dict=fixed(conf_dict), col1=w1, col2=w2, \\\n",
    "                                                col3=fixed(w3))\n",
    "\n",
    "display(i)"
   ]
  },
  {
   "cell_type": "markdown",
   "metadata": {},
   "source": [
    "### <a name=\"two numerical and categorical\"></a>Explorer les interactions entre deux variables quantitatives et une variable qualitatives (sur des données échantillonnées)"
   ]
  },
  {
   "cell_type": "code",
   "execution_count": 22,
   "metadata": {},
   "outputs": [
    {
     "data": {
      "application/vnd.jupyter.widget-view+json": {
       "model_id": "062c4f50f7cb48bdb70489536a15d124",
       "version_major": 2,
       "version_minor": 0
      },
      "text/plain": [
       "interactive(children=(Dropdown(description='Var Qttv 1:', options=('age', 'fnlwgt', 'educationnum', 'capitalga…"
      ]
     },
     "metadata": {},
     "output_type": "display_data"
    }
   ],
   "source": [
    "w1, w2, w3, w4 = None, None, None, None\n",
    "\n",
    "if conf_dict['Target'] in conf_dict['NumericalColumns']:\n",
    "    cols_list = [conf_dict['Target']] + conf_dict['NumericalColumns'] #Make target the default reference variable\n",
    "    cols_list = list(OrderedDict.fromkeys(cols_list)) #remove variables that might be duplicates with target\n",
    "else:\n",
    "    cols_list = conf_dict['NumericalColumns']\n",
    "    \n",
    "w1 = widgets.Dropdown(\n",
    "    options = cols_list,\n",
    "    value = cols_list[0],\n",
    "    description = 'Var Qttv 1:'\n",
    ")\n",
    "w2 = widgets.Dropdown(\n",
    "    options = cols_list,\n",
    "    value = cols_list[1],\n",
    "    description = 'Var Qttv 2:'\n",
    ")\n",
    "\n",
    "if conf_dict['Target'] in conf_dict['CategoricalColumns']:\n",
    "    cols_list = [conf_dict['Target']] + conf_dict['CategoricalColumns'] #Make target the default reference variable\n",
    "    cols_list = list(OrderedDict.fromkeys(cols_list)) #remove variables that might be duplicates with target\n",
    "else:\n",
    "    cols_list = conf_dict['CategoricalColumns']\n",
    "    \n",
    "w3 = widgets.Dropdown(\n",
    "    options = cols_list,\n",
    "    value = cols_list[0],\n",
    "    description = 'Legend Cat Var:'\n",
    ")\n",
    "i = interactive(InteractionAnalytics.nnc_relation, df=fixed(df),conf_dict=fixed(conf_dict), col1=w1, col2=w2, col3=w3)\n",
    "display(i)"
   ]
  },
  {
   "cell_type": "markdown",
   "metadata": {},
   "source": [
    "## <a name=\"pca\"></a>Visualiser les données quantitatives par analyse en composantes principales (sur les données échantillonnées)"
   ]
  },
  {
   "cell_type": "markdown",
   "metadata": {},
   "source": [
    "### Projection 2D par ACP"
   ]
  },
  {
   "cell_type": "code",
   "execution_count": 23,
   "metadata": {},
   "outputs": [
    {
     "data": {
      "application/vnd.jupyter.widget-view+json": {
       "model_id": "628c53e376714364ae8c85ed992ee7e6",
       "version_major": 2,
       "version_minor": 0
      },
      "text/plain": [
       "interactive(children=(Dropdown(description='Legend:', options=('label_IsOver50K', 'workclass', 'sex', 'relatio…"
      ]
     },
     "metadata": {},
     "output_type": "display_data"
    }
   ],
   "source": [
    "num_numeric = len(conf_dict['NumericalColumns'])\n",
    "if  num_numeric > 3:\n",
    "    w1, w2, w3, w4, w5 = None, None, None, None, None\n",
    "    if conf_dict['Target'] in conf_dict['CategoricalColumns']:\n",
    "        cols_list = [conf_dict['Target']] + conf_dict['CategoricalColumns'] #Make target the default reference variable\n",
    "        cols_list = list(OrderedDict.fromkeys(cols_list)) #remove variables that might be duplicates with target\n",
    "    else:\n",
    "        cols_list = conf_dict['CategoricalColumns']\n",
    "    w1 = widgets.Dropdown(\n",
    "        options = cols_list,\n",
    "        value = cols_list[0],\n",
    "        description = 'Legend:',\n",
    "        width = 10\n",
    "    )\n",
    "    w2 = widgets.Dropdown(\n",
    "        options = [str(x) for x in np.arange(1,num_numeric+1)],\n",
    "        value = '1',\n",
    "        width = 1,\n",
    "        description='PC at X-Axis:'\n",
    "    )\n",
    "    w3 = widgets.Dropdown(\n",
    "        options = [str(x) for x in np.arange(1,num_numeric+1)],\n",
    "        value = '2',\n",
    "        description = 'PC at Y-Axis:'\n",
    "    )\n",
    "    i = interactive(InteractionAnalytics.numerical_pca, df=fixed(df), conf_dict=fixed(conf_dict), col1=w1, col2=w2, col3=w3)\n",
    "\n",
    "    \n",
    "    display(i)"
   ]
  },
  {
   "cell_type": "markdown",
   "metadata": {},
   "source": [
    "### Projection 3D par ACP"
   ]
  },
  {
   "cell_type": "code",
   "execution_count": 24,
   "metadata": {},
   "outputs": [
    {
     "data": {
      "application/vnd.jupyter.widget-view+json": {
       "model_id": "7fe65aa34a86432ea41578de59d08022",
       "version_major": 2,
       "version_minor": 0
      },
      "text/plain": [
       "interactive(children=(Dropdown(description='Legend:', options=('label_IsOver50K', 'workclass', 'sex', 'relatio…"
      ]
     },
     "metadata": {},
     "output_type": "display_data"
    }
   ],
   "source": [
    "if len(conf_dict['NumericalColumns']) > 3:\n",
    "    if conf_dict['Target'] in conf_dict['CategoricalColumns']:\n",
    "        cols_list = [conf_dict['Target']] + conf_dict['CategoricalColumns'] #Make target the default reference variable\n",
    "        cols_list = list(OrderedDict.fromkeys(cols_list)) #remove variables that might be duplicates with target\n",
    "    else:\n",
    "        cols_list = conf_dict['CategoricalColumns']\n",
    "    w1, w2, w3, w4 = None, None, None, None\n",
    "    w1 = widgets.Dropdown(\n",
    "        options=cols_list,\n",
    "        value=cols_list[0],\n",
    "        description='Legend:'\n",
    "    )\n",
    "    w2 = ipywidgets.IntSlider(min=-180, max=180, step=5, value=30, description='Angle')\n",
    "    i = interactive(InteractionAnalytics.pca_3d, df=fixed(df), conf_dict=fixed(conf_dict), col1=w1, col2=w2, col3=fixed(w3))\n",
    "    display(i)"
   ]
  },
  {
   "cell_type": "markdown",
   "metadata": {},
   "source": [
    "## <a name=\"show hide codes\"></a>Afficher/Cacher les codes sources"
   ]
  },
  {
   "cell_type": "code",
   "execution_count": 28,
   "metadata": {},
   "outputs": [
    {
     "data": {
      "text/html": [
       "<style>\n",
       "    .widget-label { min-width: 20ex !important; }\n",
       "    .widget-text { min-width: 60ex !important; }\n",
       "</style>"
      ],
      "text/plain": [
       "<IPython.core.display.HTML object>"
      ]
     },
     "metadata": {},
     "output_type": "display_data"
    },
    {
     "data": {
      "text/html": [
       "<script>\n",
       "code_show=true; \n",
       "function code_toggle() {\n",
       " if (code_show){\n",
       " $('div.input').hide();\n",
       "\n",
       " } else {\n",
       " $('div.input').show();\n",
       "\n",
       " }\n",
       " code_show = !code_show\n",
       "} \n",
       "//$( document ).ready(code_toggle);//commenting code disabling by default\n",
       "</script>\n",
       "<form action = \"javascript:code_toggle()\"><input type=\"submit\" value=\"Afficher/Cacher\"></form>"
      ],
      "text/plain": [
       "<IPython.core.display.HTML object>"
      ]
     },
     "execution_count": 28,
     "metadata": {},
     "output_type": "execute_result"
    }
   ],
   "source": [
    "display(HTML('''<style>\n",
    "    .widget-label { min-width: 20ex !important; }\n",
    "    .widget-text { min-width: 60ex !important; }\n",
    "</style>'''))\n",
    "\n",
    "#Toggle Code\n",
    "HTML('''<script>\n",
    "code_show=true; \n",
    "function code_toggle() {\n",
    " if (code_show){\n",
    " $('div.input').hide();\n",
    "\n",
    " } else {\n",
    " $('div.input').show();\n",
    "\n",
    " }\n",
    " code_show = !code_show\n",
    "} \n",
    "//$( document ).ready(code_toggle);//commenting code disabling by default\n",
    "</script>\n",
    "<form action = \"javascript:code_toggle()\"><input type=\"submit\" value=\"Afficher/Cacher\"></form>''')"
   ]
  },
  {
   "cell_type": "code",
   "execution_count": null,
   "metadata": {},
   "outputs": [],
   "source": []
  }
 ],
 "metadata": {
  "anaconda-cloud": {},
  "kernelspec": {
   "display_name": "Python 2",
   "language": "python",
   "name": "python2"
  },
  "language_info": {
   "codemirror_mode": {
    "name": "ipython",
    "version": 3
   },
   "file_extension": ".py",
   "mimetype": "text/x-python",
   "name": "python",
   "nbconvert_exporter": "python",
   "pygments_lexer": "ipython3",
   "version": "3.6.5"
  },
  "widgets": {
   "state": {
    "04e541dab2f94f7caa8357ba1cfc9be6": {
     "views": [
      {
       "cell_index": 36
      }
     ]
    },
    "18f3d017ad894e77a8c73e417ae58210": {
     "views": [
      {
       "cell_index": 27
      }
     ]
    },
    "208341904fc447d788dd2340a53cd4d2": {
     "views": [
      {
       "cell_index": 44
      }
     ]
    },
    "50ecba77c87044d9b4b85858c456d5d4": {
     "views": [
      {
       "cell_index": 42
      }
     ]
    },
    "65f26639b55c4c97ad375a07314da367": {
     "views": [
      {
       "cell_index": 51
      }
     ]
    },
    "6670e2ea30174fd585febc2496e72733": {
     "views": [
      {
       "cell_index": 47
      }
     ]
    },
    "6e41b06a02ea483088552da04690bcd4": {
     "views": [
      {
       "cell_index": 12
      }
     ]
    },
    "7c24f442e86d46edb2c47bf054c76cc2": {
     "views": [
      {
       "cell_index": 31
      }
     ]
    },
    "81839ba5bfcd4e3295c8612d43d00e8c": {
     "views": [
      {
       "cell_index": 29
      }
     ]
    },
    "db6f802c4b2d4c94a58e91565e1496f2": {
     "views": [
      {
       "cell_index": 40
      }
     ]
    },
    "dce2ea0b203c439e82ad12464e669912": {
     "views": [
      {
       "cell_index": 38
      }
     ]
    },
    "e37fec1bbb534f46b122e3fb18122752": {
     "views": [
      {
       "cell_index": 49
      }
     ]
    },
    "f4b28034998f4951b5f42167c178dbaa": {
     "views": [
      {
       "cell_index": 34
      }
     ]
    }
   },
   "version": "1.2.0"
  }
 },
 "nbformat": 4,
 "nbformat_minor": 2
}
