{
 "cells": [
  {
   "cell_type": "markdown",
   "metadata": {},
   "source": [
    "# Adult income project"
   ]
  },
  {
   "cell_type": "markdown",
   "metadata": {},
   "source": [
    "## <a name=\"setup\"></a>Global Configuration and Setting Up"
   ]
  },
  {
   "cell_type": "code",
   "execution_count": 4,
   "metadata": {},
   "outputs": [
    {
     "name": "stdout",
     "output_type": "stream",
     "text": [
      "file on : /Users/user/Documents/data_analysis/pycharm workspace/IDEU/projects/bike-rental\n",
      "/Users/user/Documents/data_analysis/pycharm workspace/IDEU/projects/bike-rental/IDEAR_Report.ipynb\n"
     ]
    }
   ],
   "source": [
    "import os\n",
    "\n",
    "print ('file on : %s' %os.getcwd())\n",
    "\n",
    "workingDir = '/Users/user/Documents/data_analysis/pycharm workspace/IDEU'\n",
    "os.chdir(workingDir)\n",
    "\n",
    "projectDir = '%s/projects/bike-rental/' %os.getcwd()\n",
    "\n",
    "\n",
    "from utilities.ReportMagics import *\n",
    "\n",
    "merged_report ='%sIDEAR_Report.ipynb' %projectDir\n",
    "print (merged_report)\n",
    "\n",
    "%reset_all"
   ]
  },
  {
   "cell_type": "code",
   "execution_count": 6,
   "metadata": {},
   "outputs": [
    {
     "name": "stdout",
     "output_type": "stream",
     "text": [
      "/Users/user/Documents/data_analysis/pycharm workspace/IDEU/projects/bike-rental/config-bike-rental.yaml\n",
      "/Users/user/Documents/data_analysis/pycharm workspace/IDEU/projects/bike-rental/tmp/\n"
     ]
    }
   ],
   "source": [
    "%%add_conf_code_to_report\n",
    "import os\n",
    "# workingDir = '.'\n",
    "# os.chdir(workingDir)\n",
    "\n",
    "conf_file = '%sconfig-bike-rental.yaml' %projectDir\n",
    "Sample_Size = 10000\n",
    "\n",
    "export_dir = '%stmp/' %projectDir\n",
    "print (conf_file)\n",
    "print (export_dir)"
   ]
  },
  {
   "cell_type": "markdown",
   "metadata": {},
   "source": [
    "### Import necessary packages and set up environment parameters"
   ]
  },
  {
   "cell_type": "code",
   "execution_count": 9,
   "metadata": {},
   "outputs": [
    {
     "name": "stdout",
     "output_type": "stream",
     "text": [
      "Done import\n"
     ]
    }
   ],
   "source": [
    "%%add_conf_code_to_report\n",
    "\n",
    "import pandas as pd\n",
    "import numpy as np\n",
    "import os\n",
    "#os.chdir(workingDir)\n",
    "import collections\n",
    "import matplotlib\n",
    "import io\n",
    "import sys\n",
    "import operator\n",
    "\n",
    "import nbformat as nbf\n",
    "from IPython.core.display import HTML\n",
    "from IPython.display import display\n",
    "from ipywidgets import interact, interactive,fixed\n",
    "from IPython.display import Javascript, display,HTML\n",
    "from ipywidgets import widgets, VBox\n",
    "import ipywidgets\n",
    "import IPython\n",
    "from IPython.display import clear_output\n",
    "import scipy.stats as stats\n",
    "from statsmodels.graphics.mosaicplot import mosaic\n",
    "import statsmodels.api as sm\n",
    "from statsmodels.formula.api import ols\n",
    "import os\n",
    "import errno\n",
    "import seaborn as sns\n",
    "from string import Template\n",
    "from functools import partial\n",
    "from collections import OrderedDict\n",
    "\n",
    "# Utility Classes\n",
    "from utilities.ConfUtility import * \n",
    "from utilities.ReportGeneration import *\n",
    "from utilities.UniVarAnalytics import *\n",
    "from utilities.MultiVarAnalytics import *\n",
    "\n",
    "%matplotlib inline\n",
    "\n",
    "#DEBUG=0\n",
    "\n",
    "font={'family':'normal','weight':'normal','size':8}\n",
    "matplotlib.rc('font',**font)\n",
    "matplotlib.rcParams['figure.figsize'] = (12.0, 5.0)\n",
    "matplotlib.rc('xtick', labelsize=9) \n",
    "matplotlib.rc('ytick', labelsize=9)\n",
    "matplotlib.rc('axes', labelsize=10)\n",
    "matplotlib.rc('axes', titlesize=10)\n",
    "sns.set_style('whitegrid')\n",
    "\n",
    "print ('Done import')"
   ]
  },
  {
   "cell_type": "markdown",
   "metadata": {},
   "source": [
    "### Define some functions for generating reports"
   ]
  },
  {
   "cell_type": "code",
   "execution_count": 10,
   "metadata": {},
   "outputs": [],
   "source": [
    "%%add_conf_code_to_report\n",
    "\n",
    "if not os.path.exists(export_dir):\n",
    "    os.makedirs(export_dir)\n",
    "    \n",
    "def gen_report(conf_md,conf_code, md, code, filename):\n",
    "    ReportGeneration.write_report(conf_md, conf_code, md, code, report_name=filename)\n",
    "\n",
    "def translate_code_commands(cell, exported_cols, composite=False):    \n",
    "    new_code_store = []\n",
    "    exported_cols = [each for each in exported_cols if each!='']   \n",
    "    for each in exported_cols:       \n",
    "        w,x,y = each.split(',')\n",
    "        with open('log.txt','w') as fout:\n",
    "            fout.write('Processing call for the column {}'.format(each))\n",
    "        temp=cell[0]\n",
    "\n",
    "        new_line = temp.replace('interactive','apply').replace(\n",
    "            \"df=fixed(df)\",\"df\").replace(\"filename=fixed(filename)\",\"'\"+ReportMagic.var_files+\"'\").replace(\n",
    "            \"col1=w1\",\"'\"+w+\"'\").replace(\"col2=w2\",\"'\"+x+\"'\").replace(\"col3=w3\",\"'\"+y+\"'\").replace(\n",
    "            \"col3=fixed(w3)\",\"'\"+y+\"'\").replace(\n",
    "            \"Export=w_export\",\"False\").replace(\"conf_dict=fixed(conf_dict)\",\"conf_dict\")       \n",
    "        new_line = new_line.replace(\"df,\",\"[df,\")\n",
    "        new_line = new_line[:len(new_line)-1]+\"])\"\n",
    "        new_line = new_line.replace(\"apply(\",\"\").replace(\", [\", \"(*[\")\n",
    "        new_code_store.append(new_line)        \n",
    "    return new_code_store\n",
    "\n",
    "def add_to_report(section='', task=''):\n",
    "    print ('Section {}, Task {} added for report generation'.format(section ,task))\n",
    "\n",
    "def trigger_report(widgets,export_cols_file, output_report, no_widgets=1, md_text=''):\n",
    "    exported_cols = []\n",
    "    with open(export_cols_file,'r') as fin:\n",
    "        for each in fin:\n",
    "            each = each.strip()\n",
    "            if each and not each.isspace():\n",
    "                exported_cols.append(each)\n",
    "                \n",
    "    exported_cols = list(set(exported_cols))\n",
    "    conf_md, conf_code, md, code=%show_report \n",
    "    md = md_text\n",
    "    cell = code\n",
    "    new_code_store = translate_code_commands(cell,exported_cols)\n",
    "    gen_report(conf_md,conf_code, md, new_code_store, filename=export_dir+output_report)\n",
    "    \n",
    "def silentremove(filename):\n",
    "    try:\n",
    "        os.remove(filename)\n",
    "    except OSError as e: # this would be \"except OSError, e:\" before Python 2.6\n",
    "        if e.errno != errno.ENOENT: # errno.ENOENT = no such file or directory\n",
    "            raise # re-raise exception if a different error occured\n",
    "\n",
    "def handle_change(value):\n",
    "    w_export.value=False\n",
    "\n",
    "def getWidgetValue(w):\n",
    "    w_value = ''\n",
    "    try:\n",
    "        w_value = w.value\n",
    "    except:\n",
    "        pass    \n",
    "    return w_value\n",
    "\n",
    "def handle_export(widget, w1, w2, w3, export_filename='temp.ipynb',md_text=''):    \n",
    "    print ('Export is successful!')\n",
    "    w1_value, w2_value, w3_value = \\\n",
    "        getWidgetValue(w1),getWidgetValue(w2),getWidgetValue(w3)\n",
    "    st = ','.join(str(each) for each in [w1_value, w2_value, w3_value])\n",
    "    with open(filename,'a') as fout:\n",
    "        fout.write(st+'\\n')\n",
    "    trigger_report(w1_value, filename, export_filename, False, md_text=md_text)  \n",
    "    \n",
    "            "
   ]
  },
  {
   "cell_type": "markdown",
   "metadata": {},
   "source": [
    "## <a name=\"read and summarize\"></a> Read and Summarize the Data"
   ]
  },
  {
   "cell_type": "markdown",
   "metadata": {},
   "source": [
    "### Read data and infer column types"
   ]
  },
  {
   "cell_type": "code",
   "execution_count": 14,
   "metadata": {},
   "outputs": [
    {
     "data": {
      "text/html": [
       "<ul><li>Categorical Columns are yr, \n",
       "workingday, \n",
       "weekday, \n",
       "weathersit, \n",
       "season, \n",
       "registered, \n",
       "mnth, \n",
       "hr, \n",
       "holiday, \n",
       "dteday, \n",
       "casual</li><li>Target variable is cnt</li><li>Numerical Columns are temp, \n",
       "atemp, \n",
       "hum, \n",
       "windspeed, \n",
       "cnt</li></ul>"
      ],
      "text/plain": [
       "<IPython.core.display.HTML object>"
      ]
     },
     "execution_count": 14,
     "metadata": {},
     "output_type": "execute_result"
    }
   ],
   "source": [
    "%%add_conf_code_to_report\n",
    "\n",
    "conf_dict = ConfUtility.parse_yaml(conf_file)\n",
    "\n",
    "# Read in data from local file or SQL server\n",
    "if 'DataSource' not in conf_dict:\n",
    "    df=pd.read_csv('%s%s' %(projectDir,conf_dict['DataFilePath'][0]), skipinitialspace=True)\n",
    "else:\n",
    "    import pyodbc\n",
    "    cnxn = pyodbc.connect('driver=ODBC Driver 11 for SQL Server;server={};database={};Uid={};Pwd={}'.format(\n",
    "            conf_dict['Server'], conf_dict['Database'],conf_dict['Username'],conf_dict['Password']))\n",
    "    df = pd.read_sql(conf_dict['Query'],cnxn)\n",
    "\n",
    "# Making sure that we are not reading any extra column\n",
    "df = df[[each for each in df.columns if 'Unnamed' not in each]]\n",
    "\n",
    "# Sampling Data if data size is larger than 10k\n",
    "df0 = df # df0 is the unsampled data. Will be used in data exploration and analysis where sampling is not needed\n",
    "         # However, keep in mind that your final report will always be based on the sampled data. \n",
    "if Sample_Size < df.shape[0]:\n",
    "    df = df.sample(Sample_Size)\n",
    "\n",
    "# change float data types\n",
    "if 'FloatDataTypes' in conf_dict:   \n",
    "    for col_name in conf_dict['FloatDataTypes']:\n",
    "        df[col_name] = df[col_name].astype(float)      \n",
    "        \n",
    "# Getting the list of categorical columns if it was not there in the yaml file\n",
    "if 'CategoricalColumns' not in conf_dict:\n",
    "    conf_dict['CategoricalColumns'] = list(set(list(df.select_dtypes(exclude=[np.number]).columns)))\n",
    "\n",
    "# Getting the list of numerical columns if it was not there in the yaml file\n",
    "if 'NumericalColumns' not in conf_dict:\n",
    "    conf_dict['NumericalColumns'] = list(df.select_dtypes(include=[np.number]).columns)    \n",
    "\n",
    "# Exclude columns that we do not need\n",
    "if 'ColumnsToExclude' in conf_dict:\n",
    "    conf_dict['CategoricalColumns'] = list(set(conf_dict['CategoricalColumns'])-set(conf_dict['ColumnsToExclude']))\n",
    "    conf_dict['NumericalColumns'] = list(set(conf_dict['NumericalColumns'])-set(conf_dict['ColumnsToExclude']))\n",
    "\n",
    "# Ordering the categorical variables according to the number of unique categories\n",
    "filtered_cat_columns = []\n",
    "temp_dict = {}\n",
    "for cat_var in conf_dict['CategoricalColumns']:\n",
    "    temp_dict[cat_var] = len(np.unique(df[cat_var]))\n",
    "sorted_x = sorted(temp_dict.items(), key=operator.itemgetter(0), reverse=True)\n",
    "conf_dict['CategoricalColumns'] = [x for (x,y) in sorted_x]\n",
    "\n",
    "ConfUtility.dict_to_htmllist(conf_dict,['Target','CategoricalColumns','NumericalColumns'])"
   ]
  },
  {
   "cell_type": "markdown",
   "metadata": {},
   "source": [
    "### Print the first n (n=5 by default) rows of the data"
   ]
  },
  {
   "cell_type": "code",
   "execution_count": 15,
   "metadata": {},
   "outputs": [
    {
     "data": {
      "application/vnd.jupyter.widget-view+json": {
       "model_id": "be5d7d0e84ec4602adee8bc1daf6eece",
       "version_major": 2,
       "version_minor": 0
      },
      "text/plain": [
       "interactive(children=(IntSlider(value=5, description='Number of Rows', max=30), Output()), _dom_classes=('widg…"
      ]
     },
     "metadata": {},
     "output_type": "display_data"
    }
   ],
   "source": [
    "%%add_conf_code_to_report\n",
    "def custom_head(df,NoOfRows):\n",
    "    return HTML(df.head(NoOfRows).style.set_table_attributes(\"class='table'\").render())\n",
    "i = interact(custom_head,df=fixed(df0), NoOfRows=ipywidgets.IntSlider(min=0, max=30, step=1, \\\n",
    "                                                                     value=5, description='Number of Rows'))"
   ]
  },
  {
   "cell_type": "markdown",
   "metadata": {},
   "source": [
    "### Print the dimensions of the data (rows, columns)"
   ]
  },
  {
   "cell_type": "code",
   "execution_count": 16,
   "metadata": {
    "scrolled": false
   },
   "outputs": [
    {
     "name": "stdout",
     "output_type": "stream",
     "text": [
      "The data has 17379 Rows and 17 columns\n"
     ]
    }
   ],
   "source": [
    "%%add_conf_code_to_report\n",
    "print ('The data has {} Rows and {} columns'.format(df0.shape[0],df0.shape[1]))"
   ]
  },
  {
   "cell_type": "markdown",
   "metadata": {},
   "source": [
    "### Print the column names of the data"
   ]
  },
  {
   "cell_type": "code",
   "execution_count": 17,
   "metadata": {
    "scrolled": false
   },
   "outputs": [
    {
     "name": "stdout",
     "output_type": "stream",
     "text": [
      "The column names are:instant,dteday,season,yr,mnth,hr,holiday,weekday,workingday,weathersit,temp,atemp,hum,windspeed,casual,registered,cnt\n"
     ]
    }
   ],
   "source": [
    "%%add_conf_code_to_report\n",
    "col_names = ','.join(each for each in list(df.columns))\n",
    "print(\"The column names are:\" + col_names)"
   ]
  },
  {
   "cell_type": "markdown",
   "metadata": {},
   "source": [
    "### Print the column types"
   ]
  },
  {
   "cell_type": "code",
   "execution_count": 18,
   "metadata": {
    "scrolled": false
   },
   "outputs": [
    {
     "name": "stdout",
     "output_type": "stream",
     "text": [
      "The types of columns are:\n"
     ]
    },
    {
     "data": {
      "text/plain": [
       "instant         int64\n",
       "dteday         object\n",
       "season          int64\n",
       "yr              int64\n",
       "mnth            int64\n",
       "hr              int64\n",
       "holiday         int64\n",
       "weekday         int64\n",
       "workingday      int64\n",
       "weathersit      int64\n",
       "temp          float64\n",
       "atemp         float64\n",
       "hum           float64\n",
       "windspeed     float64\n",
       "casual          int64\n",
       "registered      int64\n",
       "cnt             int64\n",
       "dtype: object"
      ]
     },
     "execution_count": 18,
     "metadata": {},
     "output_type": "execute_result"
    }
   ],
   "source": [
    "%%add_conf_code_to_report\n",
    "print(\"The types of columns are:\")\n",
    "df.dtypes"
   ]
  },
  {
   "cell_type": "markdown",
   "metadata": {},
   "source": [
    "## <a name=\"individual variable\"></a>Extract Descriptive Statistics of Each Column"
   ]
  },
  {
   "cell_type": "code",
   "execution_count": 19,
   "metadata": {},
   "outputs": [],
   "source": [
    "%%add_conf_code_to_report\n",
    "def num_missing(x):\n",
    "    return len(x.index)-x.count()\n",
    "\n",
    "def num_unique(x):\n",
    "    return len(np.unique(x))\n",
    "\n",
    "temp_df = df0.describe().T\n",
    "missing_df = pd.DataFrame(df0.apply(num_missing, axis=0)) \n",
    "missing_df.columns = ['missing']\n",
    "unq_df = pd.DataFrame(df0.apply(num_unique, axis=0))\n",
    "unq_df.columns = ['unique']\n",
    "types_df = pd.DataFrame(df0.dtypes)\n",
    "types_df.columns = ['DataType']"
   ]
  },
  {
   "cell_type": "markdown",
   "metadata": {},
   "source": [
    "### Print the descriptive statistics of numerical columns"
   ]
  },
  {
   "cell_type": "code",
   "execution_count": 20,
   "metadata": {},
   "outputs": [
    {
     "data": {
      "text/html": [
       "<div>\n",
       "<style scoped>\n",
       "    .dataframe tbody tr th:only-of-type {\n",
       "        vertical-align: middle;\n",
       "    }\n",
       "\n",
       "    .dataframe tbody tr th {\n",
       "        vertical-align: top;\n",
       "    }\n",
       "\n",
       "    .dataframe thead th {\n",
       "        text-align: right;\n",
       "    }\n",
       "</style>\n",
       "<table border=\"1\" class=\"dataframe\">\n",
       "  <thead>\n",
       "    <tr style=\"text-align: right;\">\n",
       "      <th></th>\n",
       "      <th>count</th>\n",
       "      <th>mean</th>\n",
       "      <th>std</th>\n",
       "      <th>min</th>\n",
       "      <th>25%</th>\n",
       "      <th>50%</th>\n",
       "      <th>75%</th>\n",
       "      <th>max</th>\n",
       "      <th>missing</th>\n",
       "      <th>unique</th>\n",
       "      <th>DataType</th>\n",
       "    </tr>\n",
       "  </thead>\n",
       "  <tbody>\n",
       "    <tr>\n",
       "      <th>instant</th>\n",
       "      <td>17379.0</td>\n",
       "      <td>8690.000000</td>\n",
       "      <td>5017.029500</td>\n",
       "      <td>1.00</td>\n",
       "      <td>4345.5000</td>\n",
       "      <td>8690.0000</td>\n",
       "      <td>13034.5000</td>\n",
       "      <td>17379.0000</td>\n",
       "      <td>0</td>\n",
       "      <td>17379</td>\n",
       "      <td>int64</td>\n",
       "    </tr>\n",
       "    <tr>\n",
       "      <th>season</th>\n",
       "      <td>17379.0</td>\n",
       "      <td>2.501640</td>\n",
       "      <td>1.106918</td>\n",
       "      <td>1.00</td>\n",
       "      <td>2.0000</td>\n",
       "      <td>3.0000</td>\n",
       "      <td>3.0000</td>\n",
       "      <td>4.0000</td>\n",
       "      <td>0</td>\n",
       "      <td>4</td>\n",
       "      <td>int64</td>\n",
       "    </tr>\n",
       "    <tr>\n",
       "      <th>yr</th>\n",
       "      <td>17379.0</td>\n",
       "      <td>0.502561</td>\n",
       "      <td>0.500008</td>\n",
       "      <td>0.00</td>\n",
       "      <td>0.0000</td>\n",
       "      <td>1.0000</td>\n",
       "      <td>1.0000</td>\n",
       "      <td>1.0000</td>\n",
       "      <td>0</td>\n",
       "      <td>2</td>\n",
       "      <td>int64</td>\n",
       "    </tr>\n",
       "    <tr>\n",
       "      <th>mnth</th>\n",
       "      <td>17379.0</td>\n",
       "      <td>6.537775</td>\n",
       "      <td>3.438776</td>\n",
       "      <td>1.00</td>\n",
       "      <td>4.0000</td>\n",
       "      <td>7.0000</td>\n",
       "      <td>10.0000</td>\n",
       "      <td>12.0000</td>\n",
       "      <td>0</td>\n",
       "      <td>12</td>\n",
       "      <td>int64</td>\n",
       "    </tr>\n",
       "    <tr>\n",
       "      <th>hr</th>\n",
       "      <td>17379.0</td>\n",
       "      <td>11.546752</td>\n",
       "      <td>6.914405</td>\n",
       "      <td>0.00</td>\n",
       "      <td>6.0000</td>\n",
       "      <td>12.0000</td>\n",
       "      <td>18.0000</td>\n",
       "      <td>23.0000</td>\n",
       "      <td>0</td>\n",
       "      <td>24</td>\n",
       "      <td>int64</td>\n",
       "    </tr>\n",
       "    <tr>\n",
       "      <th>holiday</th>\n",
       "      <td>17379.0</td>\n",
       "      <td>0.028770</td>\n",
       "      <td>0.167165</td>\n",
       "      <td>0.00</td>\n",
       "      <td>0.0000</td>\n",
       "      <td>0.0000</td>\n",
       "      <td>0.0000</td>\n",
       "      <td>1.0000</td>\n",
       "      <td>0</td>\n",
       "      <td>2</td>\n",
       "      <td>int64</td>\n",
       "    </tr>\n",
       "    <tr>\n",
       "      <th>weekday</th>\n",
       "      <td>17379.0</td>\n",
       "      <td>3.003683</td>\n",
       "      <td>2.005771</td>\n",
       "      <td>0.00</td>\n",
       "      <td>1.0000</td>\n",
       "      <td>3.0000</td>\n",
       "      <td>5.0000</td>\n",
       "      <td>6.0000</td>\n",
       "      <td>0</td>\n",
       "      <td>7</td>\n",
       "      <td>int64</td>\n",
       "    </tr>\n",
       "    <tr>\n",
       "      <th>workingday</th>\n",
       "      <td>17379.0</td>\n",
       "      <td>0.682721</td>\n",
       "      <td>0.465431</td>\n",
       "      <td>0.00</td>\n",
       "      <td>0.0000</td>\n",
       "      <td>1.0000</td>\n",
       "      <td>1.0000</td>\n",
       "      <td>1.0000</td>\n",
       "      <td>0</td>\n",
       "      <td>2</td>\n",
       "      <td>int64</td>\n",
       "    </tr>\n",
       "    <tr>\n",
       "      <th>weathersit</th>\n",
       "      <td>17379.0</td>\n",
       "      <td>1.425283</td>\n",
       "      <td>0.639357</td>\n",
       "      <td>1.00</td>\n",
       "      <td>1.0000</td>\n",
       "      <td>1.0000</td>\n",
       "      <td>2.0000</td>\n",
       "      <td>4.0000</td>\n",
       "      <td>0</td>\n",
       "      <td>4</td>\n",
       "      <td>int64</td>\n",
       "    </tr>\n",
       "    <tr>\n",
       "      <th>temp</th>\n",
       "      <td>17379.0</td>\n",
       "      <td>0.496987</td>\n",
       "      <td>0.192556</td>\n",
       "      <td>0.02</td>\n",
       "      <td>0.3400</td>\n",
       "      <td>0.5000</td>\n",
       "      <td>0.6600</td>\n",
       "      <td>1.0000</td>\n",
       "      <td>0</td>\n",
       "      <td>50</td>\n",
       "      <td>float64</td>\n",
       "    </tr>\n",
       "    <tr>\n",
       "      <th>atemp</th>\n",
       "      <td>17379.0</td>\n",
       "      <td>0.475775</td>\n",
       "      <td>0.171850</td>\n",
       "      <td>0.00</td>\n",
       "      <td>0.3333</td>\n",
       "      <td>0.4848</td>\n",
       "      <td>0.6212</td>\n",
       "      <td>1.0000</td>\n",
       "      <td>0</td>\n",
       "      <td>65</td>\n",
       "      <td>float64</td>\n",
       "    </tr>\n",
       "    <tr>\n",
       "      <th>hum</th>\n",
       "      <td>17379.0</td>\n",
       "      <td>0.627229</td>\n",
       "      <td>0.192930</td>\n",
       "      <td>0.00</td>\n",
       "      <td>0.4800</td>\n",
       "      <td>0.6300</td>\n",
       "      <td>0.7800</td>\n",
       "      <td>1.0000</td>\n",
       "      <td>0</td>\n",
       "      <td>89</td>\n",
       "      <td>float64</td>\n",
       "    </tr>\n",
       "    <tr>\n",
       "      <th>windspeed</th>\n",
       "      <td>17379.0</td>\n",
       "      <td>0.190098</td>\n",
       "      <td>0.122340</td>\n",
       "      <td>0.00</td>\n",
       "      <td>0.1045</td>\n",
       "      <td>0.1940</td>\n",
       "      <td>0.2537</td>\n",
       "      <td>0.8507</td>\n",
       "      <td>0</td>\n",
       "      <td>30</td>\n",
       "      <td>float64</td>\n",
       "    </tr>\n",
       "    <tr>\n",
       "      <th>casual</th>\n",
       "      <td>17379.0</td>\n",
       "      <td>35.676218</td>\n",
       "      <td>49.305030</td>\n",
       "      <td>0.00</td>\n",
       "      <td>4.0000</td>\n",
       "      <td>17.0000</td>\n",
       "      <td>48.0000</td>\n",
       "      <td>367.0000</td>\n",
       "      <td>0</td>\n",
       "      <td>322</td>\n",
       "      <td>int64</td>\n",
       "    </tr>\n",
       "    <tr>\n",
       "      <th>registered</th>\n",
       "      <td>17379.0</td>\n",
       "      <td>153.786869</td>\n",
       "      <td>151.357286</td>\n",
       "      <td>0.00</td>\n",
       "      <td>34.0000</td>\n",
       "      <td>115.0000</td>\n",
       "      <td>220.0000</td>\n",
       "      <td>886.0000</td>\n",
       "      <td>0</td>\n",
       "      <td>776</td>\n",
       "      <td>int64</td>\n",
       "    </tr>\n",
       "    <tr>\n",
       "      <th>cnt</th>\n",
       "      <td>17379.0</td>\n",
       "      <td>189.463088</td>\n",
       "      <td>181.387599</td>\n",
       "      <td>1.00</td>\n",
       "      <td>40.0000</td>\n",
       "      <td>142.0000</td>\n",
       "      <td>281.0000</td>\n",
       "      <td>977.0000</td>\n",
       "      <td>0</td>\n",
       "      <td>869</td>\n",
       "      <td>int64</td>\n",
       "    </tr>\n",
       "  </tbody>\n",
       "</table>\n",
       "</div>"
      ],
      "text/plain": [
       "              count         mean          std   min        25%        50%  \\\n",
       "instant     17379.0  8690.000000  5017.029500  1.00  4345.5000  8690.0000   \n",
       "season      17379.0     2.501640     1.106918  1.00     2.0000     3.0000   \n",
       "yr          17379.0     0.502561     0.500008  0.00     0.0000     1.0000   \n",
       "mnth        17379.0     6.537775     3.438776  1.00     4.0000     7.0000   \n",
       "hr          17379.0    11.546752     6.914405  0.00     6.0000    12.0000   \n",
       "holiday     17379.0     0.028770     0.167165  0.00     0.0000     0.0000   \n",
       "weekday     17379.0     3.003683     2.005771  0.00     1.0000     3.0000   \n",
       "workingday  17379.0     0.682721     0.465431  0.00     0.0000     1.0000   \n",
       "weathersit  17379.0     1.425283     0.639357  1.00     1.0000     1.0000   \n",
       "temp        17379.0     0.496987     0.192556  0.02     0.3400     0.5000   \n",
       "atemp       17379.0     0.475775     0.171850  0.00     0.3333     0.4848   \n",
       "hum         17379.0     0.627229     0.192930  0.00     0.4800     0.6300   \n",
       "windspeed   17379.0     0.190098     0.122340  0.00     0.1045     0.1940   \n",
       "casual      17379.0    35.676218    49.305030  0.00     4.0000    17.0000   \n",
       "registered  17379.0   153.786869   151.357286  0.00    34.0000   115.0000   \n",
       "cnt         17379.0   189.463088   181.387599  1.00    40.0000   142.0000   \n",
       "\n",
       "                   75%         max  missing  unique DataType  \n",
       "instant     13034.5000  17379.0000        0   17379    int64  \n",
       "season          3.0000      4.0000        0       4    int64  \n",
       "yr              1.0000      1.0000        0       2    int64  \n",
       "mnth           10.0000     12.0000        0      12    int64  \n",
       "hr             18.0000     23.0000        0      24    int64  \n",
       "holiday         0.0000      1.0000        0       2    int64  \n",
       "weekday         5.0000      6.0000        0       7    int64  \n",
       "workingday      1.0000      1.0000        0       2    int64  \n",
       "weathersit      2.0000      4.0000        0       4    int64  \n",
       "temp            0.6600      1.0000        0      50  float64  \n",
       "atemp           0.6212      1.0000        0      65  float64  \n",
       "hum             0.7800      1.0000        0      89  float64  \n",
       "windspeed       0.2537      0.8507        0      30  float64  \n",
       "casual         48.0000    367.0000        0     322    int64  \n",
       "registered    220.0000    886.0000        0     776    int64  \n",
       "cnt           281.0000    977.0000        0     869    int64  "
      ]
     },
     "execution_count": 20,
     "metadata": {},
     "output_type": "execute_result"
    }
   ],
   "source": [
    "%%add_conf_code_to_report\n",
    "summary_df = temp_df.join(missing_df).join(unq_df).join(types_df)\n",
    "summary_df"
   ]
  },
  {
   "cell_type": "markdown",
   "metadata": {},
   "source": [
    "### Print the descriptive statistics of categorical columns"
   ]
  },
  {
   "cell_type": "code",
   "execution_count": 21,
   "metadata": {},
   "outputs": [
    {
     "data": {
      "text/html": [
       "<div>\n",
       "<style scoped>\n",
       "    .dataframe tbody tr th:only-of-type {\n",
       "        vertical-align: middle;\n",
       "    }\n",
       "\n",
       "    .dataframe tbody tr th {\n",
       "        vertical-align: top;\n",
       "    }\n",
       "\n",
       "    .dataframe thead th {\n",
       "        text-align: right;\n",
       "    }\n",
       "</style>\n",
       "<table border=\"1\" class=\"dataframe\">\n",
       "  <thead>\n",
       "    <tr style=\"text-align: right;\">\n",
       "      <th></th>\n",
       "      <th>missing</th>\n",
       "      <th>unique</th>\n",
       "      <th>DataType</th>\n",
       "    </tr>\n",
       "  </thead>\n",
       "  <tbody>\n",
       "    <tr>\n",
       "      <th>dteday</th>\n",
       "      <td>0</td>\n",
       "      <td>731</td>\n",
       "      <td>object</td>\n",
       "    </tr>\n",
       "    <tr>\n",
       "      <th>season</th>\n",
       "      <td>0</td>\n",
       "      <td>4</td>\n",
       "      <td>int64</td>\n",
       "    </tr>\n",
       "    <tr>\n",
       "      <th>yr</th>\n",
       "      <td>0</td>\n",
       "      <td>2</td>\n",
       "      <td>int64</td>\n",
       "    </tr>\n",
       "    <tr>\n",
       "      <th>mnth</th>\n",
       "      <td>0</td>\n",
       "      <td>12</td>\n",
       "      <td>int64</td>\n",
       "    </tr>\n",
       "    <tr>\n",
       "      <th>hr</th>\n",
       "      <td>0</td>\n",
       "      <td>24</td>\n",
       "      <td>int64</td>\n",
       "    </tr>\n",
       "    <tr>\n",
       "      <th>holiday</th>\n",
       "      <td>0</td>\n",
       "      <td>2</td>\n",
       "      <td>int64</td>\n",
       "    </tr>\n",
       "    <tr>\n",
       "      <th>weekday</th>\n",
       "      <td>0</td>\n",
       "      <td>7</td>\n",
       "      <td>int64</td>\n",
       "    </tr>\n",
       "    <tr>\n",
       "      <th>workingday</th>\n",
       "      <td>0</td>\n",
       "      <td>2</td>\n",
       "      <td>int64</td>\n",
       "    </tr>\n",
       "    <tr>\n",
       "      <th>weathersit</th>\n",
       "      <td>0</td>\n",
       "      <td>4</td>\n",
       "      <td>int64</td>\n",
       "    </tr>\n",
       "    <tr>\n",
       "      <th>casual</th>\n",
       "      <td>0</td>\n",
       "      <td>322</td>\n",
       "      <td>int64</td>\n",
       "    </tr>\n",
       "    <tr>\n",
       "      <th>registered</th>\n",
       "      <td>0</td>\n",
       "      <td>776</td>\n",
       "      <td>int64</td>\n",
       "    </tr>\n",
       "  </tbody>\n",
       "</table>\n",
       "</div>"
      ],
      "text/plain": [
       "            missing  unique DataType\n",
       "dteday            0     731   object\n",
       "season            0       4    int64\n",
       "yr                0       2    int64\n",
       "mnth              0      12    int64\n",
       "hr                0      24    int64\n",
       "holiday           0       2    int64\n",
       "weekday           0       7    int64\n",
       "workingday        0       2    int64\n",
       "weathersit        0       4    int64\n",
       "casual            0     322    int64\n",
       "registered        0     776    int64"
      ]
     },
     "execution_count": 21,
     "metadata": {},
     "output_type": "execute_result"
    }
   ],
   "source": [
    "%%add_conf_code_to_report\n",
    "col_names = list(types_df.index) #Get all col names\n",
    "num_cols = len(col_names)\n",
    "index = range(num_cols)\n",
    "cat_index = []\n",
    "for i in index: #Find the indices of columns in Categorical columns\n",
    "    if col_names[i] in conf_dict['CategoricalColumns']:\n",
    "        cat_index.append(i)\n",
    "summary_df_cat = missing_df.join(unq_df).join(types_df.iloc[cat_index], how='inner') #Only summarize categorical columns\n",
    "summary_df_cat"
   ]
  },
  {
   "cell_type": "markdown",
   "metadata": {},
   "source": [
    "## <a name=\"individual variables\"></a>Explore Individual Variables"
   ]
  },
  {
   "cell_type": "markdown",
   "metadata": {},
   "source": [
    "### Explore the target variable"
   ]
  },
  {
   "cell_type": "code",
   "execution_count": 22,
   "metadata": {},
   "outputs": [
    {
     "data": {
      "application/vnd.jupyter.widget-view+json": {
       "model_id": "7d20304a571c4c32adedba48f2d81707",
       "version_major": 2,
       "version_minor": 0
      },
      "text/plain": [
       "HBox(children=(Dropdown(description='Target Variable:', options=('cnt',), value='cnt'), Checkbox(value=False, …"
      ]
     },
     "metadata": {},
     "output_type": "display_data"
    },
    {
     "name": "stderr",
     "output_type": "stream",
     "text": [
      "/Users/user/anaconda2/envs/py2/lib/python3.6/site-packages/scipy/stats/morestats.py:1309: UserWarning: p-value may not be accurate for N > 5000.\n",
      "  warnings.warn(\"p-value may not be accurate for N > 5000.\")\n"
     ]
    },
    {
     "data": {
      "image/png": "[encoded data removed]",
      "text/plain": [
       "<Figure size 864x360 with 4 Axes>"
      ]
     },
     "metadata": {},
     "output_type": "display_data"
    }
   ],
   "source": [
    "md_text = '## Target Variable'\n",
    "filename = 'tmp/target_variables.csv'\n",
    "export_filename = 'target_report2.ipynb'\n",
    "\n",
    "if conf_dict['Target'] in conf_dict['CategoricalColumns']:\n",
    "    w1_value,w2_value,w3_value = '','',''\n",
    "    w1, w2, w3, w4 = None, None, None, None\n",
    "    silentremove(filename)    \n",
    "    w1 = widgets.Dropdown(\n",
    "        options=[conf_dict['Target']],\n",
    "        value=conf_dict['Target'],\n",
    "        description='Target Variable:',\n",
    "    )\n",
    "\n",
    "    ReportMagic.var_files = filename\n",
    "    w_export = widgets.Button(description='Export', value='Export')\n",
    "    handle_export_partial = partial(handle_export, w1=w1, w2=w2, w3=w3, export_filename=export_filename, md_text=md_text)      \n",
    "    w1.observe(handle_change,'value')\n",
    "    w_export.on_click(handle_export_partial)\n",
    "\n",
    "    %reset_report\n",
    "    %add_interaction_code_to_report \n",
    "    i = interactive(TargetAnalytics.custom_barplot, df=fixed(df), \\\n",
    "                                                    filename=fixed(filename), col1=w1)\n",
    "    hbox = widgets.HBox(i.children)\n",
    "    display(hbox)\n",
    "    hbox.on_displayed(TargetAnalytics.custom_barplot(df=df0, filename=filename, col1=w1.value, Export=w_export))\n",
    "else:\n",
    "    w1_value, w2_value, w3_value = '', '', ''\n",
    "    w1, w2, w3, w4 = None, None, None, None\n",
    "    silentremove(filename) \n",
    "    w1 = widgets.Dropdown(\n",
    "            options=[conf_dict['Target']],\n",
    "            value=conf_dict['Target'],\n",
    "            description='Target Variable:',\n",
    "        )\n",
    "    w_export = widgets.Button(description='Export', value='Export')\n",
    "    handle_export_partial = partial(handle_export, w1=w1, w2=w2, w3=w3, export_filename=export_filename, md_text=md_text)       \n",
    "    w1.observe(handle_change,'value')\n",
    "    w_export.on_click(handle_export_partial)\n",
    "\n",
    "    %reset_report\n",
    "    %add_interaction_code_to_report \n",
    "    i = interactive(NumericAnalytics.custom_barplot, df=fixed(df), filename=fixed(filename),\\\n",
    "                                                    col1=w1)\n",
    "    hbox = widgets.HBox(i.children)\n",
    "    display(hbox)\n",
    "    hbox.on_displayed(NumericAnalytics.custom_barplot(df=df, filename=filename, col1=w1.value, Export=w_export))"
   ]
  },
  {
   "cell_type": "markdown",
   "metadata": {},
   "source": [
    "### Explore individual numeric variables and test for normality (on sampled data)"
   ]
  },
  {
   "cell_type": "code",
   "execution_count": 23,
   "metadata": {},
   "outputs": [
    {
     "data": {
      "application/vnd.jupyter.widget-view+json": {
       "model_id": "f865680970a54cf684bc27e09820add4",
       "version_major": 2,
       "version_minor": 0
      },
      "text/plain": [
       "interactive(children=(Dropdown(description='Numeric Variable:', options=('temp', 'atemp', 'hum', 'windspeed', …"
      ]
     },
     "metadata": {},
     "output_type": "display_data"
    }
   ],
   "source": [
    "md_text = '## Visualize Individual Numerical Variables (on Sampled Data)'\n",
    "filename = ReportMagic.var_files='tmp/numeric_variables.csv'\n",
    "export_filename = 'numeric_report2.ipynb'\n",
    "w1_value, w2_value, w3_value = '', '', ''\n",
    "w1, w2, w3, w4 = None, None, None, None\n",
    "silentremove(filename) \n",
    "w1 = widgets.Dropdown(\n",
    "        options=conf_dict['NumericalColumns'],\n",
    "        value=conf_dict['NumericalColumns'][0],\n",
    "        description='Numeric Variable:',\n",
    "    )\n",
    "w_export = widgets.Button(description='Export', value='Export')\n",
    "handle_export_partial = partial(handle_export, w1=w1, w2=w2, w3=w3, export_filename=export_filename, md_text=md_text)       \n",
    "w1.observe(handle_change,'value')\n",
    "w_export.on_click(handle_export_partial)\n",
    "\n",
    "%reset_report\n",
    "%add_interaction_code_to_report \n",
    "i = interactive(NumericAnalytics.custom_barplot, df=fixed(df), filename=fixed(filename),\\\n",
    "                                                col1=w1)#, Export=w_export\n",
    "# hbox = widgets.HBox(i.children)\n",
    "# display(hbox)\n",
    "display(i)\n",
    "# hbox.on_displayed(NumericAnalytics.custom_barplot(df=df, filename=filename, col1=w1.value, Export=w_export))"
   ]
  },
  {
   "cell_type": "markdown",
   "metadata": {},
   "source": [
    "### Explore individual categorical variables (sorted by frequencies)"
   ]
  },
  {
   "cell_type": "code",
   "execution_count": 24,
   "metadata": {},
   "outputs": [
    {
     "data": {
      "application/vnd.jupyter.widget-view+json": {
       "model_id": "28f12150723940fd9b6542e246c161ce",
       "version_major": 2,
       "version_minor": 0
      },
      "text/plain": [
       "interactive(children=(Dropdown(description='Categorical Variable:', options=('yr', 'workingday', 'weekday', 'w…"
      ]
     },
     "metadata": {},
     "output_type": "display_data"
    }
   ],
   "source": [
    "w_export = None\n",
    "md_text = '## Visualize Individual Categorical Variables'\n",
    "filename = ReportMagic.var_files='tmp/categoric_variables.csv'\n",
    "export_filename = 'categoric_report2.ipynb'\n",
    "\n",
    "w1_value, w2_value, w3_value = '', '', ''\n",
    "w1, w2, w3, w4 = None, None, None, None\n",
    "silentremove(filename) \n",
    "w1 = widgets.Dropdown(\n",
    "    options = conf_dict['CategoricalColumns'],\n",
    "    value = conf_dict['CategoricalColumns'][0],\n",
    "    description = 'Categorical Variable:',\n",
    ")\n",
    "\n",
    "w_export = widgets.Button(description='Export')\n",
    "handle_export_partial = partial(handle_export, w1=w1, w2=w2, w3=w3, export_filename=export_filename, md_text=md_text)       \n",
    "w1.observe (handle_change,'value')\n",
    "w_export.on_click(handle_export_partial)\n",
    "\n",
    "%reset_report\n",
    "%add_interaction_code_to_report \n",
    "i = interactive(CategoricAnalytics.custom_barplot, df=fixed(df),\\\n",
    "                                                filename=fixed(filename), col1=w1)\n",
    "\n",
    "# hbox = widgets.HBox(i.children)\n",
    "# display(hbox)\n",
    "display(i)\n",
    "# hbox.on_displayed(CategoricAnalytics.custom_barplot(df=df0, filename=filename, col1=w1.value, Export=w_export))"
   ]
  },
  {
   "cell_type": "markdown",
   "metadata": {},
   "source": [
    "## <a name=\"multiple variables\"></a>Explore Interactions Between Variables"
   ]
  },
  {
   "cell_type": "markdown",
   "metadata": {},
   "source": [
    "### <a name=\"rank variables\"></a>Rank variables based on linear relationships with reference variable (on sampled data)"
   ]
  },
  {
   "cell_type": "code",
   "execution_count": 25,
   "metadata": {},
   "outputs": [
    {
     "ename": "ValueError",
     "evalue": "Button(description='Export', style=ButtonStyle()) cannot be transformed to a widget",
     "output_type": "error",
     "traceback": [
      "\u001b[0;31m---------------------------------------------------------\u001b[0m",
      "\u001b[0;31mValueError\u001b[0m              Traceback (most recent call last)",
      "\u001b[0;32m<ipython-input-25-e22b783fb41a>\u001b[0m in \u001b[0;36m<module>\u001b[0;34m()\u001b[0m\n\u001b[1;32m     19\u001b[0m \u001b[0mget_ipython\u001b[0m\u001b[0;34m(\u001b[0m\u001b[0;34m)\u001b[0m\u001b[0;34m.\u001b[0m\u001b[0mrun_line_magic\u001b[0m\u001b[0;34m(\u001b[0m\u001b[0;34m'reset_report'\u001b[0m\u001b[0;34m,\u001b[0m \u001b[0;34m''\u001b[0m\u001b[0;34m)\u001b[0m\u001b[0;34m\u001b[0m\u001b[0m\n\u001b[1;32m     20\u001b[0m \u001b[0mget_ipython\u001b[0m\u001b[0;34m(\u001b[0m\u001b[0;34m)\u001b[0m\u001b[0;34m.\u001b[0m\u001b[0mrun_line_magic\u001b[0m\u001b[0;34m(\u001b[0m\u001b[0;34m'add_interaction_code_to_report'\u001b[0m\u001b[0;34m,\u001b[0m \u001b[0;34m''\u001b[0m\u001b[0;34m)\u001b[0m\u001b[0;34m\u001b[0m\u001b[0m\n\u001b[0;32m---> 21\u001b[0;31m \u001b[0mi\u001b[0m \u001b[0;34m=\u001b[0m \u001b[0minteractive\u001b[0m\u001b[0;34m(\u001b[0m\u001b[0mInteractionAnalytics\u001b[0m\u001b[0;34m.\u001b[0m\u001b[0mrank_associations\u001b[0m\u001b[0;34m,\u001b[0m \u001b[0mdf\u001b[0m\u001b[0;34m=\u001b[0m\u001b[0mfixed\u001b[0m\u001b[0;34m(\u001b[0m\u001b[0mdf\u001b[0m\u001b[0;34m)\u001b[0m\u001b[0;34m,\u001b[0m                                                 \u001b[0mconf_dict\u001b[0m\u001b[0;34m=\u001b[0m\u001b[0mfixed\u001b[0m\u001b[0;34m(\u001b[0m\u001b[0mconf_dict\u001b[0m\u001b[0;34m)\u001b[0m\u001b[0;34m,\u001b[0m \u001b[0mcol1\u001b[0m\u001b[0;34m=\u001b[0m\u001b[0mw1\u001b[0m\u001b[0;34m,\u001b[0m \u001b[0mcol2\u001b[0m\u001b[0;34m=\u001b[0m\u001b[0mw2\u001b[0m\u001b[0;34m,\u001b[0m \u001b[0mcol3\u001b[0m\u001b[0;34m=\u001b[0m\u001b[0mw3\u001b[0m\u001b[0;34m,\u001b[0m \u001b[0mExport\u001b[0m\u001b[0;34m=\u001b[0m\u001b[0mw_export\u001b[0m\u001b[0;34m)\u001b[0m\u001b[0;34m\u001b[0m\u001b[0m\n\u001b[0m\u001b[1;32m     22\u001b[0m \u001b[0;31m# hbox = widgets.HBox(i.children)\u001b[0m\u001b[0;34m\u001b[0m\u001b[0;34m\u001b[0m\u001b[0m\n\u001b[1;32m     23\u001b[0m \u001b[0;31m# display(hbox)\u001b[0m\u001b[0;34m\u001b[0m\u001b[0;34m\u001b[0m\u001b[0m\n",
      "\u001b[0;32m~/anaconda2/envs/py2/lib/python3.6/site-packages/ipywidgets/widgets/interaction.py\u001b[0m in \u001b[0;36m__init__\u001b[0;34m(self, _interactive__interact_f, _interactive__options, **kwargs)\u001b[0m\n\u001b[1;32m    193\u001b[0m             \u001b[0mgetcallargs\u001b[0m\u001b[0;34m(\u001b[0m\u001b[0mf\u001b[0m\u001b[0;34m,\u001b[0m \u001b[0;34m**\u001b[0m\u001b[0;34m{\u001b[0m\u001b[0mn\u001b[0m\u001b[0;34m:\u001b[0m\u001b[0mv\u001b[0m \u001b[0;32mfor\u001b[0m \u001b[0mn\u001b[0m\u001b[0;34m,\u001b[0m\u001b[0mv\u001b[0m\u001b[0;34m,\u001b[0m\u001b[0m_\u001b[0m \u001b[0;32min\u001b[0m \u001b[0mnew_kwargs\u001b[0m\u001b[0;34m}\u001b[0m\u001b[0;34m)\u001b[0m\u001b[0;34m\u001b[0m\u001b[0m\n\u001b[1;32m    194\u001b[0m         \u001b[0;31m# Now build the widgets from the abbreviations.\u001b[0m\u001b[0;34m\u001b[0m\u001b[0;34m\u001b[0m\u001b[0m\n\u001b[0;32m--> 195\u001b[0;31m         \u001b[0mself\u001b[0m\u001b[0;34m.\u001b[0m\u001b[0mkwargs_widgets\u001b[0m \u001b[0;34m=\u001b[0m \u001b[0mself\u001b[0m\u001b[0;34m.\u001b[0m\u001b[0mwidgets_from_abbreviations\u001b[0m\u001b[0;34m(\u001b[0m\u001b[0mnew_kwargs\u001b[0m\u001b[0;34m)\u001b[0m\u001b[0;34m\u001b[0m\u001b[0m\n\u001b[0m\u001b[1;32m    196\u001b[0m \u001b[0;34m\u001b[0m\u001b[0m\n\u001b[1;32m    197\u001b[0m         \u001b[0;31m# This has to be done as an assignment, not using self.children.append,\u001b[0m\u001b[0;34m\u001b[0m\u001b[0;34m\u001b[0m\u001b[0m\n",
      "\u001b[0;32m~/anaconda2/envs/py2/lib/python3.6/site-packages/ipywidgets/widgets/interaction.py\u001b[0m in \u001b[0;36mwidgets_from_abbreviations\u001b[0;34m(self, seq)\u001b[0m\n\u001b[1;32m    293\u001b[0m             \u001b[0;32mif\u001b[0m \u001b[0;32mnot\u001b[0m \u001b[0;34m(\u001b[0m\u001b[0misinstance\u001b[0m\u001b[0;34m(\u001b[0m\u001b[0mwidget\u001b[0m\u001b[0;34m,\u001b[0m \u001b[0mValueWidget\u001b[0m\u001b[0;34m)\u001b[0m \u001b[0;32mor\u001b[0m \u001b[0misinstance\u001b[0m\u001b[0;34m(\u001b[0m\u001b[0mwidget\u001b[0m\u001b[0;34m,\u001b[0m \u001b[0mfixed\u001b[0m\u001b[0;34m)\u001b[0m\u001b[0;34m)\u001b[0m\u001b[0;34m:\u001b[0m\u001b[0;34m\u001b[0m\u001b[0m\n\u001b[1;32m    294\u001b[0m                 \u001b[0;32mif\u001b[0m \u001b[0mwidget\u001b[0m \u001b[0;32mis\u001b[0m \u001b[0;32mNone\u001b[0m\u001b[0;34m:\u001b[0m\u001b[0;34m\u001b[0m\u001b[0m\n\u001b[0;32m--> 295\u001b[0;31m                     \u001b[0;32mraise\u001b[0m \u001b[0mValueError\u001b[0m\u001b[0;34m(\u001b[0m\u001b[0;34m\"{!r} cannot be transformed to a widget\"\u001b[0m\u001b[0;34m.\u001b[0m\u001b[0mformat\u001b[0m\u001b[0;34m(\u001b[0m\u001b[0mabbrev\u001b[0m\u001b[0;34m)\u001b[0m\u001b[0;34m)\u001b[0m\u001b[0;34m\u001b[0m\u001b[0m\n\u001b[0m\u001b[1;32m    296\u001b[0m                 \u001b[0;32melse\u001b[0m\u001b[0;34m:\u001b[0m\u001b[0;34m\u001b[0m\u001b[0m\n\u001b[1;32m    297\u001b[0m                     \u001b[0;32mraise\u001b[0m \u001b[0mTypeError\u001b[0m\u001b[0;34m(\u001b[0m\u001b[0;34m\"{!r} is not a ValueWidget\"\u001b[0m\u001b[0;34m.\u001b[0m\u001b[0mformat\u001b[0m\u001b[0;34m(\u001b[0m\u001b[0mwidget\u001b[0m\u001b[0;34m)\u001b[0m\u001b[0;34m)\u001b[0m\u001b[0;34m\u001b[0m\u001b[0m\n",
      "\u001b[0;31mValueError\u001b[0m: Button(description='Export', style=ButtonStyle()) cannot be transformed to a widget"
     ]
    }
   ],
   "source": [
    "md_text = '## Rank variables based on linear relationships with reference variable (on sampled data)'\n",
    "filename = ReportMagic.var_files='tmp/rank_associations.csv'\n",
    "export_filename = 'rank_report2.ipynb'\n",
    "silentremove(filename)\n",
    "cols_list = [conf_dict['Target']] + conf_dict['NumericalColumns'] + conf_dict['CategoricalColumns'] #Make target the default reference variable\n",
    "cols_list = list(OrderedDict.fromkeys(cols_list)) #remove variables that might be duplicates with target\n",
    "w1 = widgets.Dropdown(    \n",
    "    options=cols_list,\n",
    "    value=cols_list[0],\n",
    "    description='Ref Var:'\n",
    ")\n",
    "w2 = ipywidgets.Text(value=\"5\", description='Top Num Vars:')\n",
    "w3 = ipywidgets.Text(value=\"5\", description='Top Cat Vars:')\n",
    "w_export = widgets.Button(description='Export', value='Export')\n",
    "handle_export_partial = partial(handle_export, w1=w1, w2=w2, w3=w3, export_filename=export_filename, md_text=md_text)\n",
    "w1.observe (handle_change,'value')\n",
    "w_export.on_click(handle_export_partial)\n",
    "\n",
    "%reset_report\n",
    "%add_interaction_code_to_report \n",
    "i = interactive(InteractionAnalytics.rank_associations, df=fixed(df), \\\n",
    "                                                conf_dict=fixed(conf_dict), col1=w1, col2=w2, col3=w3, Export=w_export)\n",
    "# hbox = widgets.HBox(i.children)\n",
    "# display(hbox)\n",
    "display(i)\n",
    "#hbox.on_displayed(InteractionAnalytics.rank_associations(df=df, conf_dict=conf_dict, col1=w1.value, col2=w2.value, col3=w3.value, Export=w_export))"
   ]
  },
  {
   "cell_type": "markdown",
   "metadata": {},
   "source": [
    "### <a name=\"two categorical\"></a>Explore interactions between categorical variables"
   ]
  },
  {
   "cell_type": "code",
   "execution_count": 26,
   "metadata": {},
   "outputs": [
    {
     "data": {
      "application/vnd.jupyter.widget-view+json": {
       "model_id": "c3233f6cf04141cb906736c5de0f4c0b",
       "version_major": 2,
       "version_minor": 0
      },
      "text/plain": [
       "interactive(children=(Dropdown(description='Categorical Var 1:', options=('yr', 'workingday', 'weekday', 'weat…"
      ]
     },
     "metadata": {},
     "output_type": "display_data"
    }
   ],
   "source": [
    "md_text = '## Interaction between categorical variables'\n",
    "filename = ReportMagic.var_files='tmp/cat_interactions.csv'\n",
    "export_filename = 'cat_interactions_report2.ipynb'\n",
    "silentremove(filename) \n",
    "w1, w2, w3, w4 = None, None, None, None\n",
    "\n",
    "if conf_dict['Target'] in conf_dict['CategoricalColumns']:\n",
    "    cols_list = [conf_dict['Target']] + conf_dict['CategoricalColumns'] #Make target the default reference variable\n",
    "    cols_list = list(OrderedDict.fromkeys(cols_list)) #remove variables that might be duplicates with target\n",
    "else:\n",
    "    cols_list = conf_dict['CategoricalColumns']\n",
    "    \n",
    "w1 = widgets.Dropdown(\n",
    "    options=cols_list,\n",
    "    value=cols_list[0],\n",
    "    description='Categorical Var 1:'\n",
    ")\n",
    "w2 = widgets.Dropdown(\n",
    "    options=cols_list,\n",
    "    value=cols_list[1],\n",
    "    description='Categorical Var 2:'\n",
    ")\n",
    "w_export = widgets.Button(description='Export', value=\"Export\")\n",
    "handle_export_partial = partial(handle_export, w1=w1, w2=w2, w3=w3, export_filename=export_filename, md_text=md_text)       \n",
    "w1.observe(handle_change,'value')\n",
    "w2.observe(handle_change,'value')\n",
    "w_export.on_click(handle_export_partial)\n",
    "\n",
    "%reset_report\n",
    "%add_interaction_code_to_report \n",
    "i = interactive(InteractionAnalytics.categorical_relations, df=fixed(df), \\\n",
    "                                         filename=fixed(filename), col1=w1, col2=w2)\n",
    "# hbox = widgets.HBox(i.children)\n",
    "# display(hbox)\n",
    "display(i)\n",
    "# hbox.on_displayed(InteractionAnalytics.categorical_relations(df=df0, filename=filename, col1=w1.value, col2=w2.value, Export=w_export))"
   ]
  },
  {
   "cell_type": "markdown",
   "metadata": {},
   "source": [
    "### <a name=\"two numerical\"></a>Explore interactions between numerical variables (on sampled data)"
   ]
  },
  {
   "cell_type": "code",
   "execution_count": 27,
   "metadata": {},
   "outputs": [
    {
     "data": {
      "application/vnd.jupyter.widget-view+json": {
       "model_id": "154cfdddbb5c4707ad7f3e143cbeda87",
       "version_major": 2,
       "version_minor": 0
      },
      "text/plain": [
       "interactive(children=(Dropdown(description='Numerical Var 1:', options=('cnt', 'temp', 'atemp', 'hum', 'windsp…"
      ]
     },
     "metadata": {},
     "output_type": "display_data"
    }
   ],
   "source": [
    "md_text = '## Interaction between numerical variables (on sampled data)'\n",
    "filename = ReportMagic.var_files='tmp/numerical_interactions.csv'\n",
    "export_filename = 'numerical_interactions_report2.ipynb'\n",
    "silentremove(filename) \n",
    "w1, w2, w3, w4 = None, None, None, None\n",
    "\n",
    "if conf_dict['Target'] in conf_dict['NumericalColumns']:\n",
    "    cols_list = [conf_dict['Target']] + conf_dict['NumericalColumns'] #Make target the default reference variable\n",
    "    cols_list = list(OrderedDict.fromkeys(cols_list)) #remove variables that might be duplicates with target\n",
    "else:\n",
    "    cols_list = conf_dict['NumericalColumns']\n",
    "w1 = widgets.Dropdown(\n",
    "    options=cols_list,\n",
    "    value=cols_list[0],\n",
    "    description='Numerical Var 1:'\n",
    ")\n",
    "w2 = widgets.Dropdown(\n",
    "    options=cols_list,\n",
    "    value=cols_list[1],\n",
    "    description='Numerical Var 2:'\n",
    ")\n",
    "w_export = widgets.Button(description='Export', value=\"Export\")\n",
    "handle_export_partial = partial(handle_export, w1=w1, w2=w2, w3=w3, export_filename=export_filename, md_text=md_text)       \n",
    "w1.observe(handle_change,'value')\n",
    "w2.observe(handle_change,'value')\n",
    "w_export.on_click(handle_export_partial)\n",
    "\n",
    "%reset_report\n",
    "%add_interaction_code_to_report \n",
    "i = interactive(InteractionAnalytics.numerical_relations, df=fixed(df), \\\n",
    "                                         col1=w1, col2=w2)\n",
    "# hbox = widgets.HBox(i.children)\n",
    "# display(hbox)\n",
    "display(i)\n",
    "# hbox.on_displayed(InteractionAnalytics.numerical_relations(df, col1=w1.value, col2=w2.value, Export=w_export))"
   ]
  },
  {
   "cell_type": "markdown",
   "metadata": {},
   "source": [
    "### Explore correlation matrix between numerical variables"
   ]
  },
  {
   "cell_type": "code",
   "execution_count": 28,
   "metadata": {
    "scrolled": false
   },
   "outputs": [
    {
     "data": {
      "application/vnd.jupyter.widget-view+json": {
       "model_id": "16a82bf958fd46adb44331751c3f7ea6",
       "version_major": 2,
       "version_minor": 0
      },
      "text/plain": [
       "interactive(children=(Dropdown(description='Correlation Method:', options=('pearson', 'kendall', 'spearman'), …"
      ]
     },
     "metadata": {},
     "output_type": "display_data"
    }
   ],
   "source": [
    "md_text = '## Explore correlation matrix between numerical variables'\n",
    "filename = ReportMagic.var_files='tmp/numerical_corr.csv'\n",
    "export_filename = 'numerical_correlations_report2.ipynb'\n",
    "silentremove(filename) \n",
    "w1, w2, w3, w4 = None, None, None, None\n",
    "w1 = widgets.Dropdown(\n",
    "    options=['pearson','kendall','spearman'],\n",
    "    value='pearson',\n",
    "    description='Correlation Method:'\n",
    ")\n",
    "w_export = widgets.Button(description='Export', value='Export')\n",
    "handle_export_partial = partial(handle_export, w1=w1, w2=w2, w3=w3, export_filename=export_filename, md_text=md_text)       \n",
    "w1.observe(handle_change,'value')\n",
    "w_export.on_click(handle_export_partial)\n",
    "\n",
    "%reset_report\n",
    "%add_interaction_code_to_report \n",
    "i = interactive(InteractionAnalytics.numerical_correlation, df=fixed(df), conf_dict=fixed(conf_dict),\\\n",
    "                                         col1=w1)\n",
    "\n",
    "# hbox = widgets.HBox(i.children)\n",
    "# display(hbox)\n",
    "display(i)\n",
    "# hbox.on_displayed(InteractionAnalytics.numerical_correlation(df0, conf_dict=conf_dict, col1=w1.value, Export=w_export))"
   ]
  },
  {
   "cell_type": "markdown",
   "metadata": {},
   "source": [
    "### <a name=\"numerical and categorical\"></a>Explore interactions between numerical and categorical variables"
   ]
  },
  {
   "cell_type": "code",
   "execution_count": 29,
   "metadata": {},
   "outputs": [
    {
     "data": {
      "application/vnd.jupyter.widget-view+json": {
       "model_id": "76590d7e9e684aae9c36fcb2346f8cd2",
       "version_major": 2,
       "version_minor": 0
      },
      "text/plain": [
       "interactive(children=(Dropdown(description='Numerical Variable:', options=('cnt', 'temp', 'atemp', 'hum', 'win…"
      ]
     },
     "metadata": {},
     "output_type": "display_data"
    }
   ],
   "source": [
    "md_text = '## Explore interactions between numerical and categorical variables'\n",
    "filename = ReportMagic.var_files = 'tmp/nc_int.csv'\n",
    "export_filename = 'nc_report2.ipynb'\n",
    "silentremove(filename) \n",
    "w1, w2, w3, w4 = None, None, None, None\n",
    "\n",
    "if conf_dict['Target'] in conf_dict['NumericalColumns']:\n",
    "    cols_list = [conf_dict['Target']] + conf_dict['NumericalColumns'] #Make target the default reference variable\n",
    "    cols_list = list(OrderedDict.fromkeys(cols_list)) #remove variables that might be duplicates with target\n",
    "else:\n",
    "    cols_list = conf_dict['NumericalColumns']\n",
    "    \n",
    "w1 = widgets.Dropdown(\n",
    "    options=cols_list,\n",
    "    value=cols_list[0],\n",
    "    description='Numerical Variable:'\n",
    ")\n",
    "\n",
    "if conf_dict['Target'] in conf_dict['CategoricalColumns']:\n",
    "    cols_list = [conf_dict['Target']] + conf_dict['CategoricalColumns'] #Make target the default reference variable\n",
    "    cols_list = list(OrderedDict.fromkeys(cols_list)) #remove variables that might be duplicates with target\n",
    "else:\n",
    "    cols_list = conf_dict['CategoricalColumns']\n",
    "    \n",
    "w2 = widgets.Dropdown(\n",
    "    options=cols_list,\n",
    "    value=cols_list[0],\n",
    "    description='Categorical Variable:'\n",
    ")\n",
    "w_export = widgets.Button(description='Export', value=False, options=[True, False])\n",
    "handle_export_partial = partial(handle_export, w1=w1, w2=w2, w3=w3, export_filename=export_filename, md_text=md_text)      \n",
    "w1.observe(handle_change,'value')\n",
    "w_export.on_click(handle_export_partial)\n",
    "\n",
    "%reset_report\n",
    "%add_interaction_code_to_report \n",
    "i = interactive(InteractionAnalytics.nc_relation, df=fixed(df), \\\n",
    "                                                conf_dict=fixed(conf_dict), col1=w1, col2=w2, \\\n",
    "                                                col3=fixed(w3))\n",
    "\n",
    "# hbox = widgets.HBox(i.children)\n",
    "# display(hbox)\n",
    "display(i)\n",
    "# hbox.on_displayed(InteractionAnalytics.nc_relation(df0, conf_dict, col1=w1.value, col2=w2.value, Export=w_export))"
   ]
  },
  {
   "cell_type": "markdown",
   "metadata": {},
   "source": [
    "### <a name=\"two numerical and categorical\"></a>Explore interactions between two numerical variables and a categorical variable (on sampled data)"
   ]
  },
  {
   "cell_type": "code",
   "execution_count": 30,
   "metadata": {},
   "outputs": [
    {
     "data": {
      "application/vnd.jupyter.widget-view+json": {
       "model_id": "fb8f27ef2c4640129bbaa61f5412d5a5",
       "version_major": 2,
       "version_minor": 0
      },
      "text/plain": [
       "interactive(children=(Dropdown(description='Numerical Var 1:', options=('cnt', 'temp', 'atemp', 'hum', 'windsp…"
      ]
     },
     "metadata": {},
     "output_type": "display_data"
    }
   ],
   "source": [
    "md_text = '## Explore interactions between two numerical variables and a categorical variable (on sampled data)'\n",
    "filename = ReportMagic.var_files='tmp/nnc_int.csv'\n",
    "export_filename = 'nnc_report2.ipynb'\n",
    "silentremove(filename) \n",
    "w1, w2, w3, w4 = None, None, None, None\n",
    "\n",
    "if conf_dict['Target'] in conf_dict['NumericalColumns']:\n",
    "    cols_list = [conf_dict['Target']] + conf_dict['NumericalColumns'] #Make target the default reference variable\n",
    "    cols_list = list(OrderedDict.fromkeys(cols_list)) #remove variables that might be duplicates with target\n",
    "else:\n",
    "    cols_list = conf_dict['NumericalColumns']\n",
    "    \n",
    "w1 = widgets.Dropdown(\n",
    "    options = cols_list,\n",
    "    value = cols_list[0],\n",
    "    description = 'Numerical Var 1:'\n",
    ")\n",
    "w2 = widgets.Dropdown(\n",
    "    options = cols_list,\n",
    "    value = cols_list[1],\n",
    "    description = 'Numerical Var 2:'\n",
    ")\n",
    "\n",
    "if conf_dict['Target'] in conf_dict['CategoricalColumns']:\n",
    "    cols_list = [conf_dict['Target']] + conf_dict['CategoricalColumns'] #Make target the default reference variable\n",
    "    cols_list = list(OrderedDict.fromkeys(cols_list)) #remove variables that might be duplicates with target\n",
    "else:\n",
    "    cols_list = conf_dict['CategoricalColumns']\n",
    "    \n",
    "w3 = widgets.Dropdown(\n",
    "    options = cols_list,\n",
    "    value = cols_list[0],\n",
    "    description = 'Legend Cat Var:'\n",
    ")\n",
    "w_export = widgets.Button(description='Export', value=False, options=[True, False])\n",
    "handle_export_partial = partial(handle_export, w1=w1, w2=w2, w3=w3, export_filename=export_filename, md_text=md_text)       \n",
    "w1.observe(handle_change,'value')\n",
    "w_export.on_click(handle_export_partial)\n",
    "\n",
    "%reset_report\n",
    "%add_interaction_code_to_report \n",
    "i = interactive(InteractionAnalytics.nnc_relation, df=fixed(df),\\\n",
    "                                                conf_dict=fixed(conf_dict), col1=w1, col2=w2, col3=w3)\n",
    "# hbox = widgets.HBox(i.children)\n",
    "# display(hbox)\n",
    "display(i)\n",
    "# hbox.on_displayed(InteractionAnalytics.nnc_relation(df, conf_dict, col1=w1.value,col2=w2.value, col3=w3.value, Export=w_export))"
   ]
  },
  {
   "cell_type": "markdown",
   "metadata": {},
   "source": [
    "## <a name=\"pca\"></a>Visualize numerical data by projecting to principal component spaces (on sampled data)"
   ]
  },
  {
   "cell_type": "markdown",
   "metadata": {},
   "source": [
    "### Project data to 2-D principal component space (on sampled data)"
   ]
  },
  {
   "cell_type": "code",
   "execution_count": 33,
   "metadata": {},
   "outputs": [
    {
     "data": {
      "application/vnd.jupyter.widget-view+json": {
       "model_id": "c7e9f558f15e4066a37ae47095ff3060",
       "version_major": 2,
       "version_minor": 0
      },
      "text/plain": [
       "interactive(children=(Dropdown(description='Legend Variable:', options=('yr', 'workingday', 'weekday', 'weathe…"
      ]
     },
     "metadata": {},
     "output_type": "display_data"
    }
   ],
   "source": [
    "num_numeric = len(conf_dict['NumericalColumns'])\n",
    "if  num_numeric > 3:\n",
    "    md_text = '## Project Data to 2-D Principal Component Space'\n",
    "    filename = ReportMagic.var_files = 'tmp/numerical_pca.csv'\n",
    "    export_filename = 'numerical_pca_report2.ipynb'\n",
    "    silentremove(filename) \n",
    "    \n",
    "    w1, w2, w3, w4, w5 = None, None, None, None, None\n",
    "    if conf_dict['Target'] in conf_dict['CategoricalColumns']:\n",
    "        cols_list = [conf_dict['Target']] + conf_dict['CategoricalColumns'] #Make target the default reference variable\n",
    "        cols_list = list(OrderedDict.fromkeys(cols_list)) #remove variables that might be duplicates with target\n",
    "    else:\n",
    "        cols_list = conf_dict['CategoricalColumns']\n",
    "    w1 = widgets.Dropdown(\n",
    "        options = cols_list,\n",
    "        value = cols_list[0],\n",
    "        description = 'Legend Variable:',\n",
    "        width = 10\n",
    "    )\n",
    "    w2 = widgets.Dropdown(\n",
    "        options = [str(x) for x in np.arange(1,num_numeric+1)],\n",
    "        value = '1',\n",
    "        width = 1,\n",
    "        description='PC at X-Axis:'\n",
    "    )\n",
    "    w3 = widgets.Dropdown(\n",
    "        options = [str(x) for x in np.arange(1,num_numeric+1)],\n",
    "        value = '2',\n",
    "        description = 'PC at Y-Axis:'\n",
    "    )\n",
    "    w_export = widgets.Button(description='Export', value=False, options=[True, False])\n",
    "    handle_export_partial = partial(handle_export, w1=w1, w2=w2, w3=w3, export_filename=export_filename, md_text=md_text)       \n",
    "    w1.observe(handle_change,'value')\n",
    "    w_export.on_click(handle_export_partial)\n",
    "    \n",
    "    %reset_report\n",
    "    %add_interaction_code_to_report \n",
    "    i = interactive(InteractionAnalytics.numerical_pca, df=fixed(df),\\\n",
    "                                                    conf_dict=fixed(conf_dict), col1=w1, col2=w2, col3=w3)\n",
    "\n",
    "    \n",
    "    # hbox = widgets.HBox(i.children)\n",
    "    # display(hbox)\n",
    "    display(i)\n",
    "    #hbox.on_displayed(InteractionAnalytics.numerical_pca(df, conf_dict=conf_dict, col1=w1.value, col2=w2.value, col3=w3.value, Export=w_export))"
   ]
  },
  {
   "cell_type": "markdown",
   "metadata": {},
   "source": [
    "### Project data to 3-D principal component space (on sampled data)"
   ]
  },
  {
   "cell_type": "code",
   "execution_count": 34,
   "metadata": {},
   "outputs": [
    {
     "data": {
      "application/vnd.jupyter.widget-view+json": {
       "model_id": "29507bbf0fbf4432acc747f1f9e08889",
       "version_major": 2,
       "version_minor": 0
      },
      "text/plain": [
       "interactive(children=(Dropdown(description='Legend Variable:', options=('yr', 'workingday', 'weekday', 'weathe…"
      ]
     },
     "metadata": {},
     "output_type": "display_data"
    }
   ],
   "source": [
    "md_text = '## Project Data to 3-D Principal Component Space (on sampled data)'\n",
    "if len(conf_dict['NumericalColumns']) > 3:\n",
    "    filename = ReportMagic.var_files='tmp/pca3d.csv'\n",
    "    export_filename = 'pca3d_report2.ipynb'\n",
    "    silentremove(filename) \n",
    "    if conf_dict['Target'] in conf_dict['CategoricalColumns']:\n",
    "        cols_list = [conf_dict['Target']] + conf_dict['CategoricalColumns'] #Make target the default reference variable\n",
    "        cols_list = list(OrderedDict.fromkeys(cols_list)) #remove variables that might be duplicates with target\n",
    "    else:\n",
    "        cols_list = conf_dict['CategoricalColumns']\n",
    "    w1, w2, w3, w4 = None, None, None, None\n",
    "    w1 = widgets.Dropdown(\n",
    "        options=cols_list,\n",
    "        value=cols_list[0],\n",
    "        description='Legend Variable:'\n",
    "    )\n",
    "    w2 = ipywidgets.IntSlider(min=-180, max=180, step=5, value=30, description='Angle')\n",
    "    w_export = widgets.Button(description='Export',value='Export')\n",
    "    handle_export_partial = partial(handle_export, w1=w1, w2=w2, w3=w3, \\\n",
    "                                    export_filename=export_filename, md_text=md_text)     \n",
    "    w1.observe(handle_change,'value')\n",
    "    w_export.on_click(handle_export_partial)\n",
    "    \n",
    "    %reset_report\n",
    "    %add_interaction_code_to_report \n",
    "    i = interactive(InteractionAnalytics.pca_3d, df=fixed(df), conf_dict=fixed(conf_dict),\\\n",
    "                                              col1=w1, col2=w2, col3=fixed(w3))\n",
    "\n",
    "    # hbox = widgets.HBox(i.children)\n",
    "    # display(hbox)\n",
    "    display(i)\n",
    "    #hbox.on_displayed(InteractionAnalytics.pca_3d(df,conf_dict,col1=w1.value,col2=w2.value,Export=w_export))"
   ]
  },
  {
   "cell_type": "markdown",
   "metadata": {},
   "source": [
    "## <a name=\"report\"></a>Generate the Data Report"
   ]
  },
  {
   "cell_type": "code",
   "execution_count": 37,
   "metadata": {},
   "outputs": [
    {
     "data": {
      "application/vnd.jupyter.widget-view+json": {
       "model_id": "5abdae91945c4f9e88f9502169d6b3fb",
       "version_major": 2,
       "version_minor": 0
      },
      "text/plain": [
       "Button(description='Generate Final Report', style=ButtonStyle())"
      ]
     },
     "metadata": {},
     "output_type": "display_data"
    }
   ],
   "source": [
    "filenames = ['target_report2.ipynb', 'numeric_report2.ipynb', 'categoric_report2.ipynb', 'rank_report2.ipynb',\n",
    "           'cat_interactions_report2.ipynb', 'numerical_interactions_report2.ipynb',\n",
    "             'numerical_correlations_report2.ipynb', 'nc_report2.ipynb',\n",
    "             'nnc_report2.ipynb', 'numerical_pca_report2.ipynb', 'pca3d_report2.ipynb'\n",
    "           ]\n",
    "\n",
    "def merge_notebooks():\n",
    "    print ('start writing report')\n",
    "    merged = None\n",
    "    for fname in filenames:\n",
    "        print ('trying %s' %fname)\n",
    "        try:\n",
    "            print ('Processing {}'.format(export_dir+fname))\n",
    "            with io.open(export_dir+fname, 'r', encoding='utf-8') as f:\n",
    "                nb = nbf.read(f, as_version=4)\n",
    "            if merged is None:\n",
    "                merged = nb\n",
    "            else:\n",
    "                merged.cells.extend(nb.cells[2:])\n",
    "        except:\n",
    "            print ('Warning: Unable to find the file', export_dir+'//'+fname, ', continue...')\n",
    "    if not hasattr(merged.metadata, 'name'):\n",
    "        merged.metadata.name = ''\n",
    "    merged.metadata.name += \"_merged\"\n",
    "    with open(merged_report, 'w') as f:\n",
    "        nbf.write(merged, f)\n",
    "\n",
    "def gen_merged_report(b):\n",
    "    merge_notebooks()\n",
    "    \n",
    "button=widgets.Button(description='Generate Final Report')\n",
    "button.on_click(gen_merged_report)\n",
    "display(button)"
   ]
  },
  {
   "cell_type": "markdown",
   "metadata": {},
   "source": [
    "## <a name=\"show hide codes\"></a>Show/Hide the Source Codes"
   ]
  },
  {
   "cell_type": "code",
   "execution_count": 38,
   "metadata": {},
   "outputs": [
    {
     "data": {
      "text/html": [
       "<style>\n",
       "    .widget-label { min-width: 20ex !important; }\n",
       "    .widget-text { min-width: 60ex !important; }\n",
       "</style>"
      ],
      "text/plain": [
       "<IPython.core.display.HTML object>"
      ]
     },
     "metadata": {},
     "output_type": "display_data"
    },
    {
     "data": {
      "text/html": [
       "<script>\n",
       "code_show=true; \n",
       "function code_toggle() {\n",
       " if (code_show){\n",
       " $('div.input').hide();\n",
       "\n",
       " } else {\n",
       " $('div.input').show();\n",
       "\n",
       " }\n",
       " code_show = !code_show\n",
       "} \n",
       "//$( document ).ready(code_toggle);//commenting code disabling by default\n",
       "</script>\n",
       "<form action = \"javascript:code_toggle()\"><input type=\"submit\" value=\"Toggle Raw Code\"></form>"
      ],
      "text/plain": [
       "<IPython.core.display.HTML object>"
      ]
     },
     "execution_count": 38,
     "metadata": {},
     "output_type": "execute_result"
    }
   ],
   "source": [
    "# Provide the path to the yaml file relative to the working directory\n",
    "display(HTML('''<style>\n",
    "    .widget-label { min-width: 20ex !important; }\n",
    "    .widget-text { min-width: 60ex !important; }\n",
    "</style>'''))\n",
    "\n",
    "#Toggle Code\n",
    "HTML('''<script>\n",
    "code_show=true; \n",
    "function code_toggle() {\n",
    " if (code_show){\n",
    " $('div.input').hide();\n",
    "\n",
    " } else {\n",
    " $('div.input').show();\n",
    "\n",
    " }\n",
    " code_show = !code_show\n",
    "} \n",
    "//$( document ).ready(code_toggle);//commenting code disabling by default\n",
    "</script>\n",
    "<form action = \"javascript:code_toggle()\"><input type=\"submit\" value=\"Toggle Raw Code\"></form>''')"
   ]
  },
  {
   "cell_type": "code",
   "execution_count": null,
   "metadata": {},
   "outputs": [],
   "source": []
  }
 ],
 "metadata": {
  "anaconda-cloud": {},
  "kernelspec": {
   "display_name": "Python 2",
   "language": "python",
   "name": "python2"
  },
  "language_info": {
   "codemirror_mode": {
    "name": "ipython",
    "version": 3
   },
   "file_extension": ".py",
   "mimetype": "text/x-python",
   "name": "python",
   "nbconvert_exporter": "python",
   "pygments_lexer": "ipython3",
   "version": "3.6.5"
  },
  "widgets": {
   "state": {
    "04e541dab2f94f7caa8357ba1cfc9be6": {
     "views": [
      {
       "cell_index": 36
      }
     ]
    },
    "18f3d017ad894e77a8c73e417ae58210": {
     "views": [
      {
       "cell_index": 27
      }
     ]
    },
    "208341904fc447d788dd2340a53cd4d2": {
     "views": [
      {
       "cell_index": 44
      }
     ]
    },
    "50ecba77c87044d9b4b85858c456d5d4": {
     "views": [
      {
       "cell_index": 42
      }
     ]
    },
    "65f26639b55c4c97ad375a07314da367": {
     "views": [
      {
       "cell_index": 51
      }
     ]
    },
    "6670e2ea30174fd585febc2496e72733": {
     "views": [
      {
       "cell_index": 47
      }
     ]
    },
    "6e41b06a02ea483088552da04690bcd4": {
     "views": [
      {
       "cell_index": 12
      }
     ]
    },
    "7c24f442e86d46edb2c47bf054c76cc2": {
     "views": [
      {
       "cell_index": 31
      }
     ]
    },
    "81839ba5bfcd4e3295c8612d43d00e8c": {
     "views": [
      {
       "cell_index": 29
      }
     ]
    },
    "db6f802c4b2d4c94a58e91565e1496f2": {
     "views": [
      {
       "cell_index": 40
      }
     ]
    },
    "dce2ea0b203c439e82ad12464e669912": {
     "views": [
      {
       "cell_index": 38
      }
     ]
    },
    "e37fec1bbb534f46b122e3fb18122752": {
     "views": [
      {
       "cell_index": 49
      }
     ]
    },
    "f4b28034998f4951b5f42167c178dbaa": {
     "views": [
      {
       "cell_index": 34
      }
     ]
    }
   },
   "version": "1.2.0"
  }
 },
 "nbformat": 4,
 "nbformat_minor": 2
}
